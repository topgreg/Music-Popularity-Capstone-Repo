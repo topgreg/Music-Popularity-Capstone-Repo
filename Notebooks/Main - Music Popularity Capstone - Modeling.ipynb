{
 "cells": [
  {
   "cell_type": "markdown",
   "id": "a4102f31",
   "metadata": {},
   "source": [
    "# Spotify Music Popularity Capstone - Modeling\n",
    "\n",
    "Greg Welliver   "
   ]
  },
  {
   "cell_type": "code",
   "execution_count": 1,
   "id": "ba529c28",
   "metadata": {},
   "outputs": [],
   "source": [
    "# Import relevant libraries and packages.\n",
    "import numpy as np \n",
    "import pandas as pd \n",
    "import matplotlib.pyplot as plt\n",
    "from matplotlib import rc\n",
    "import matplotlib.ticker as plticker\n",
    "import matplotlib as mpl\n",
    "import matplotlib.cm as cm\n",
    "from matplotlib.colors import ListedColormap\n",
    "import seaborn as sns\n",
    "sns.set()\n",
    "%matplotlib inline\n",
    "\n",
    "\n",
    "import statsmodels.api as sm\n",
    "from statsmodels.graphics.api import abline_plot\n",
    "from scipy import stats\n",
    "\n",
    "from sklearn import linear_model, preprocessing, tree, svm, datasets, metrics\n",
    "from sklearn.metrics import accuracy_score, classification_report, confusion_matrix, roc_curve, roc_auc_score, auc, mean_squared_error, r2_score, f1_score, log_loss\n",
    "from sklearn.metrics import ConfusionMatrixDisplay\n",
    "from sklearn.metrics import precision_recall_fscore_support as score\n",
    "from sklearn.metrics import classification_report\n",
    "from sklearn.metrics import confusion_matrix\n",
    "from sklearn.metrics import precision_recall_curve\n",
    "\n",
    "from sklearn.ensemble import RandomForestClassifier\n",
    "from sklearn.ensemble import RandomForestRegressor\n",
    "from sklearn.ensemble import GradientBoostingClassifier\n",
    "from sklearn.ensemble import VotingClassifier\n",
    "from sklearn.ensemble import ExtraTreesRegressor\n",
    "from sklearn.linear_model import LogisticRegression\n",
    "from sklearn.naive_bayes import GaussianNB\n",
    "from sklearn.tree import DecisionTreeClassifier\n",
    "from sklearn.tree import export_graphviz\n",
    "\n",
    "from sklearn.svm import SVC\n",
    "from sklearn.neighbors import KNeighborsClassifier\n",
    "from sklearn.preprocessing import OneHotEncoder as OHE\n",
    "import sklearn.model_selection\n",
    "from sklearn.model_selection import train_test_split\n",
    "from sklearn.model_selection import KFold\n",
    "from sklearn.model_selection import GridSearchCV\n",
    "from sklearn.experimental import enable_iterative_imputer\n",
    "from sklearn.impute import IterativeImputer\n",
    "\n",
    "import xgboost\n",
    "from xgboost import XGBClassifier\n",
    "import warnings\n",
    "from subprocess import call\n",
    "from IPython.display import Image\n",
    "from datetime import datetime, timedelta, date\n",
    "import os\n",
    "import plotly.graph_objects as go\n",
    "import itertools\n",
    "from io import StringIO  \n",
    "import pydotplus\n"
   ]
  },
  {
   "cell_type": "code",
   "execution_count": 2,
   "id": "e5cf06a4",
   "metadata": {},
   "outputs": [],
   "source": [
    "pd.set_option('display.max_columns', None)\n",
    "pd.set_option('display.max_colwidth', None)\n",
    "#\n",
    "plt.rcParams['figure.figsize'] = (3, 3)\n",
    "plt.style.use('seaborn-pastel')\n",
    "plt.rcParams['figure.dpi'] = 150      \n",
    "#\n",
    "c0 = sns.color_palette()[0]\n",
    "c1 = sns.color_palette()[1]\n",
    "c2 = sns.color_palette()[2]\n",
    "#\n",
    "cmap_light = ListedColormap(['#FFAAAA', '#AAFFAA', '#AAAAFF'])\n",
    "cmap_bold = ListedColormap(['#FF0000', '#00FF00', '#0000FF'])\n",
    "cm = plt.cm.RdBu\n",
    "cm_bright = ListedColormap(['#FF0000', '#0000FF'])\n",
    "#"
   ]
  },
  {
   "cell_type": "code",
   "execution_count": 3,
   "id": "ac854ab2",
   "metadata": {},
   "outputs": [],
   "source": [
    "# I believe the size of the dataset (~255K rows) is causing issues with the modeling.  Therefore I will reduce the size of the majority class"
   ]
  },
  {
   "cell_type": "code",
   "execution_count": 4,
   "id": "e7517020",
   "metadata": {},
   "outputs": [
    {
     "data": {
      "text/html": [
       "<div>\n",
       "<style scoped>\n",
       "    .dataframe tbody tr th:only-of-type {\n",
       "        vertical-align: middle;\n",
       "    }\n",
       "\n",
       "    .dataframe tbody tr th {\n",
       "        vertical-align: top;\n",
       "    }\n",
       "\n",
       "    .dataframe thead th {\n",
       "        text-align: right;\n",
       "    }\n",
       "</style>\n",
       "<table border=\"1\" class=\"dataframe\">\n",
       "  <thead>\n",
       "    <tr style=\"text-align: right;\">\n",
       "      <th></th>\n",
       "      <th>Top100</th>\n",
       "    </tr>\n",
       "  </thead>\n",
       "  <tbody>\n",
       "    <tr>\n",
       "      <th>233445</th>\n",
       "      <td>1</td>\n",
       "    </tr>\n",
       "    <tr>\n",
       "      <th>120671</th>\n",
       "      <td>1</td>\n",
       "    </tr>\n",
       "    <tr>\n",
       "      <th>68604</th>\n",
       "      <td>1</td>\n",
       "    </tr>\n",
       "    <tr>\n",
       "      <th>160156</th>\n",
       "      <td>0</td>\n",
       "    </tr>\n",
       "    <tr>\n",
       "      <th>52414</th>\n",
       "      <td>1</td>\n",
       "    </tr>\n",
       "  </tbody>\n",
       "</table>\n",
       "</div>"
      ],
      "text/plain": [
       "        Top100\n",
       "233445       1\n",
       "120671       1\n",
       "68604        1\n",
       "160156       0\n",
       "52414        1"
      ]
     },
     "execution_count": 4,
     "metadata": {},
     "output_type": "execute_result"
    }
   ],
   "source": [
    "# load the data\n",
    "X_train = pd.read_csv('/Users/gregwelliver/Desktop/springboard_files/Music-Popularity-Capstone-Repo/Data/X_train.csv', index_col =[0])\n",
    "X_test = pd.read_csv('/Users/gregwelliver/Desktop/springboard_files/Music-Popularity-Capstone-Repo/Data/X_test.csv', index_col =[0])\n",
    "y_train = pd.read_csv('/Users/gregwelliver/Desktop/springboard_files/Music-Popularity-Capstone-Repo/Data/y_train.csv', index_col =[0]) \n",
    "y_test = pd.read_csv('/Users/gregwelliver/Desktop/springboard_files/Music-Popularity-Capstone-Repo/Data/y_test.csv', index_col =[0])\n",
    "y_test.head()"
   ]
  },
  {
   "cell_type": "code",
   "execution_count": 5,
   "id": "fe681e83",
   "metadata": {},
   "outputs": [],
   "source": [
    "X = pd.concat([X_train, X_test])\n",
    "y = pd.concat([y_train, y_test])"
   ]
  },
  {
   "cell_type": "markdown",
   "id": "40e8a4e6",
   "metadata": {},
   "source": [
    "### Model selection\n",
    "- test out a couple different ones (making sure to try different parameters within each algorithm as well), and select the best one by cross-validation\n",
    "- if you have a huge dataset, then whichever classification algorithm you use might not matter so much in terms of classification performance (so choose your algorithm based on speed or ease of use instead).\n",
    "#### QUESTION: when/how does speed become an important consideration?\n",
    "- If your training set is small, high bias/low variance classifiers (e.g., Naive Bayes) have an advantage over low bias/high variance classifiers (e.g., kNN), since the latter will overfit. But low bias/high variance classifiers start to win out as your training set grows (they have lower asymptotic error), since high bias classifiers aren’t powerful enough to provide accurate models.\n",
    "\n"
   ]
  },
  {
   "cell_type": "markdown",
   "id": "45bc969e",
   "metadata": {},
   "source": [
    "#### Algorithms we will try:\n",
    "- Logistic Regression\n",
    "- Random Forest\n",
    "- Decision Tree\n",
    "- XGBoost\n",
    "- Naive Bayes\n",
    "- K-Nearest Neighbor\n"
   ]
  },
  {
   "cell_type": "markdown",
   "id": "d6cd71c7",
   "metadata": {},
   "source": [
    "### Logistic Regression"
   ]
  },
  {
   "cell_type": "code",
   "execution_count": 6,
   "id": "78efd4e2",
   "metadata": {},
   "outputs": [
    {
     "name": "stderr",
     "output_type": "stream",
     "text": [
      "/Users/gregwelliver/opt/anaconda3/lib/python3.9/site-packages/sklearn/utils/validation.py:993: DataConversionWarning: A column-vector y was passed when a 1d array was expected. Please change the shape of y to (n_samples, ), for example using ravel().\n",
      "  y = column_or_1d(y, warn=True)\n"
     ]
    },
    {
     "name": "stdout",
     "output_type": "stream",
     "text": [
      "Accuracy on training data: 0.921\n",
      "Accuracy on test data: 0.867\n"
     ]
    }
   ],
   "source": [
    "lr_clf = LogisticRegression(max_iter = 500, random_state = 123)\n",
    "lr_clf.fit(X_train, y_train)\n",
    "print(f'Accuracy on training data: {accuracy_score(lr_clf.predict(X_train), y_train):.3f}')\n",
    "print(f'Accuracy on test data: {accuracy_score(lr_clf.predict(X_test), y_test):.3f}')"
   ]
  },
  {
   "cell_type": "markdown",
   "id": "7ec334f1",
   "metadata": {},
   "source": [
    "Let's also look at a Classification Report"
   ]
  },
  {
   "cell_type": "code",
   "execution_count": 7,
   "id": "918c39a8",
   "metadata": {},
   "outputs": [
    {
     "name": "stdout",
     "output_type": "stream",
     "text": [
      "Classification Report for Training Data\n",
      "              precision    recall  f1-score   support\n",
      "\n",
      "           0       0.95      0.89      0.92      1485\n",
      "           1       0.89      0.96      0.92      1495\n",
      "\n",
      "    accuracy                           0.92      2980\n",
      "   macro avg       0.92      0.92      0.92      2980\n",
      "weighted avg       0.92      0.92      0.92      2980\n",
      "\n",
      "Classification Report for Test Data\n",
      "              precision    recall  f1-score   support\n",
      "\n",
      "           0       0.91      0.82      0.86       378\n",
      "           1       0.83      0.91      0.87       368\n",
      "\n",
      "    accuracy                           0.87       746\n",
      "   macro avg       0.87      0.87      0.87       746\n",
      "weighted avg       0.87      0.87      0.87       746\n",
      "\n"
     ]
    }
   ],
   "source": [
    "print(\"Classification Report for Training Data\")\n",
    "print(classification_report(y_train, lr_clf.predict(X_train)))\n",
    "print(\"Classification Report for Test Data\")\n",
    "print(classification_report(y_test, lr_clf.predict(X_test)))"
   ]
  },
  {
   "cell_type": "markdown",
   "id": "9f10dd9f",
   "metadata": {},
   "source": [
    "#### Let's also look at a confusion matrix"
   ]
  },
  {
   "cell_type": "code",
   "execution_count": 8,
   "id": "9fd67062",
   "metadata": {},
   "outputs": [
    {
     "data": {
      "image/png": "[encoded data removed]",
      "text/plain": [
       "<Figure size 450x450 with 2 Axes>"
      ]
     },
     "metadata": {
      "needs_background": "light"
     },
     "output_type": "display_data"
    }
   ],
   "source": [
    "y_pred = lr_clf.predict(X_test)\n",
    "cm = confusion_matrix(y_test, y_pred, labels = lr_clf.classes_)\n",
    "_, ax = plt.subplots()\n",
    "display_cm = ConfusionMatrixDisplay(confusion_matrix = cm, \n",
    "                                    display_labels = ['not Top 100', 'Top 100'])\n",
    "ax.set_xticks([0, 1])\n",
    "ax.set_yticks([0, 1])\n",
    "ax.set_xticklabels(labels = ['not Top 100', 'Top 100'], fontsize = 8)\n",
    "ax.set_yticklabels(labels = ['not Top 100', 'Top 100'], fontsize = 8)\n",
    "display_cm.plot(ax = ax);"
   ]
  },
  {
   "cell_type": "markdown",
   "id": "e7a6876f",
   "metadata": {},
   "source": [
    "#### Now find the optimal hyperparameters"
   ]
  },
  {
   "cell_type": "markdown",
   "id": "7170012b",
   "metadata": {},
   "source": [
    "#### Use GridSearchCV"
   ]
  },
  {
   "cell_type": "code",
   "execution_count": null,
   "id": "e956d81b",
   "metadata": {},
   "outputs": [],
   "source": [
    "# using training data - commenting out because took forever to run\n",
    "grid={\"C\": [0.001, 0.1, 1, 10, 100], \"penalty\":[\"l1\",\"l2\"]}# l1 lasso l2 ridge\n",
    "logreg=LogisticRegression(solver = 'newton-cg', max_iter = 500)\n",
    "logreg_cv=GridSearchCV(logreg,grid,cv=5)\n",
    "logreg_cv.fit(X_train, y_train)\n",
    "\n",
    "print(\"tuned hpyerparameters :(best parameters) \",logreg_cv.best_params_)\n",
    "print(\"accuracy :\",logreg_cv.best_score_)"
   ]
  },
  {
   "cell_type": "markdown",
   "id": "a2975c4d",
   "metadata": {},
   "source": [
    "The above cell output: (it took forever to run, so want to avoid doing that again)\n",
    "\n",
    "- tuned hpyerparameters :(best parameters)  {'C': 10, 'penalty': 'l2'}\n",
    "- accuracy : 0.8734899328859059\n"
   ]
  },
  {
   "cell_type": "code",
   "execution_count": null,
   "id": "ae6c5278",
   "metadata": {},
   "outputs": [],
   "source": [
    "print(\"train accuracy:\", logreg_cv.score(X_train, y_train))\n",
    "print(\"test accuracy:\", logreg_cv.score(X_test, y_test))"
   ]
  },
  {
   "cell_type": "code",
   "execution_count": 15,
   "id": "08e5f47d",
   "metadata": {},
   "outputs": [
    {
     "data": {
      "text/plain": [
       "LogisticRegression(C=10, max_iter=500, random_state=123)"
      ]
     },
     "execution_count": 15,
     "metadata": {},
     "output_type": "execute_result"
    }
   ],
   "source": [
    "# now re-run with optimal hyperparameters\n",
    "lr_clf = LogisticRegression(max_iter = 500, random_state = 123, C = 10, penalty='l2')\n",
    "lr_clf.fit(X_train, y_train.values.ravel())"
   ]
  },
  {
   "cell_type": "code",
   "execution_count": 16,
   "id": "935b4c74",
   "metadata": {},
   "outputs": [
    {
     "name": "stdout",
     "output_type": "stream",
     "text": [
      "Classification Report for Training Data\n",
      "              precision    recall  f1-score   support\n",
      "\n",
      "           0       0.98      0.95      0.96      1485\n",
      "           1       0.95      0.99      0.97      1495\n",
      "\n",
      "    accuracy                           0.97      2980\n",
      "   macro avg       0.97      0.97      0.97      2980\n",
      "weighted avg       0.97      0.97      0.97      2980\n",
      "\n",
      "Classification Report for Test Data\n",
      "              precision    recall  f1-score   support\n",
      "\n",
      "           0       0.90      0.83      0.86       378\n",
      "           1       0.84      0.90      0.87       368\n",
      "\n",
      "    accuracy                           0.87       746\n",
      "   macro avg       0.87      0.87      0.87       746\n",
      "weighted avg       0.87      0.87      0.87       746\n",
      "\n"
     ]
    }
   ],
   "source": [
    "print(\"Classification Report for Training Data\")\n",
    "print(classification_report(y_train, lr_clf.predict(X_train)))\n",
    "print(\"Classification Report for Test Data\")\n",
    "print(classification_report(y_test, lr_clf.predict(X_test)))"
   ]
  },
  {
   "cell_type": "code",
   "execution_count": null,
   "id": "cfc4eb3d",
   "metadata": {},
   "outputs": [],
   "source": []
  },
  {
   "cell_type": "markdown",
   "id": "1e909def",
   "metadata": {},
   "source": [
    "### Random Forest"
   ]
  },
  {
   "cell_type": "code",
   "execution_count": null,
   "id": "4243f9b1",
   "metadata": {},
   "outputs": [],
   "source": [
    "rf_clf = RandomForestClassifier(n_estimators=300, random_state = 123, n_jobs=-1)\n",
    "model_res = rf_clf.fit(X_train, y_train)\n",
    "print('Accuracy on training set:',rf_clf.score(X_train,y_train))\n",
    "print('Accuracy on test set:',rf_clf.score(X_test,y_test))\n",
    "y_pred = model_res.predict(X_test)\n",
    "y_pred_prob = model_res.predict_proba(X_test)\n",
    "lr_probs = y_pred_prob[:,1]\n",
    "ac = accuracy_score(y_test, y_pred)\n",
    "\n",
    "f1 = f1_score(y_test, y_pred, average='weighted')\n",
    "cm = confusion_matrix(y_test, y_pred)\n",
    "\n",
    "print('Random Forest: Accuracy=%.3f' % (ac))\n",
    "\n",
    "print('Random Forest: f1-score=%.3f' % (f1))\n"
   ]
  },
  {
   "cell_type": "code",
   "execution_count": null,
   "id": "21bbef36",
   "metadata": {},
   "outputs": [],
   "source": [
    "# let's look at classification report\n",
    "print(\"Classification Report for Training Data\")\n",
    "print(classification_report(y_train, rf_clf.predict(X_train)))\n",
    "print(\"Classification Report for Test Data\")\n",
    "print(classification_report(y_test, rf_clf.predict(X_test)))"
   ]
  },
  {
   "cell_type": "code",
   "execution_count": null,
   "id": "c2da319f",
   "metadata": {},
   "outputs": [],
   "source": [
    "# look at confusion matrix\n",
    "class_names=['0','1'] # name  of classes\n",
    "\n",
    "def plot_confusion_matrix(cm, classes,\n",
    "                          normalize=False,\n",
    "                          title='Confusion matrix',\n",
    "                          cmap=plt.cm.Blues):\n",
    "    \"\"\"\n",
    "    This function prints and plots the confusion matrix.\n",
    "    Normalization can be applied by setting `normalize=True`.\n",
    "    \"\"\"\n",
    "    if normalize:\n",
    "        cm = cm.astype('float') / cm.sum(axis=1)[:, np.newaxis]\n",
    "        print(\"Normalized confusion matrix\")\n",
    "    else:\n",
    "        print('Confusion matrix, without normalization')\n",
    "\n",
    "    print(cm)\n",
    "\n",
    "    plt.imshow(cm, interpolation='nearest', cmap=cmap)\n",
    "    plt.title(title)\n",
    "    plt.colorbar()\n",
    "    tick_marks = np.arange(len(classes))\n",
    "    plt.xticks(tick_marks, classes, rotation=45)\n",
    "    plt.yticks(tick_marks, classes)\n",
    "\n",
    "    fmt = '.2f' if normalize else 'd'\n",
    "    thresh = cm.max() / 2.\n",
    "    for i, j in itertools.product(range(cm.shape[0]), range(cm.shape[1])):\n",
    "        plt.text(j, i, format(cm[i, j], fmt),\n",
    "                 horizontalalignment=\"center\",\n",
    "                 color=\"white\" if cm[i, j] > thresh else \"black\")\n",
    "\n",
    "    plt.ylabel('True label')\n",
    "    plt.xlabel('Predicted label')\n",
    "    plt.tight_layout()\n",
    "\n",
    "\n",
    "# Compute confusion matrix\n",
    "cnf_matrix = confusion_matrix(y_test, y_pred)\n",
    "np.set_printoptions(precision=2)\n",
    "\n",
    "# Plot non-normalized confusion matrix\n",
    "plt.figure()\n",
    "plot_confusion_matrix(cnf_matrix, classes=class_names,\n",
    "                      title='Confusion matrix, without normalization')\n",
    "#plt.savefig('figures/RF_cm_multi_class.png')\n",
    "\n",
    "# Plot normalized confusion matrix\n",
    "plt.figure()\n",
    "plot_confusion_matrix(cnf_matrix, classes=class_names, normalize=True,\n",
    "                      title='Normalized confusion matrix')\n",
    "#plt.savefig('figures/RF_cm_proportion_multi_class.png', bbox_inches=\"tight\")\n",
    "plt.show()\n"
   ]
  },
  {
   "cell_type": "code",
   "execution_count": null,
   "id": "d3066569",
   "metadata": {},
   "outputs": [],
   "source": [
    "# plot feature importances\n",
    "feature_importance = rf_clf.feature_importances_\n",
    "# make importances relative to max importance\n",
    "feature_importance = 100.0 * (feature_importance / feature_importance.max())[:30]\n",
    "sorted_idx = np.argsort(feature_importance)[:30]\n",
    "\n",
    "pos = np.arange(sorted_idx.shape[0]) + .5\n",
    "print(pos.size)\n",
    "sorted_idx.size\n",
    "plt.figure(figsize=(10,10))\n",
    "plt.barh(pos, feature_importance[sorted_idx], align='center')\n",
    "plt.yticks(pos, X.columns[sorted_idx])\n",
    "plt.xlabel('Relative Importance')\n",
    "plt.title('Variable Importance')\n",
    "plt.show()\n"
   ]
  },
  {
   "cell_type": "markdown",
   "id": "60a2ae03",
   "metadata": {},
   "source": [
    "#### QUESTIONS: \n",
    "- should i try someting here to optimize the number of estimators?\n",
    "- should accuracy of training data be 1.0?\n",
    "- in most of my calculations, accuracy and F1 score were either the same, or very close. is this expected?"
   ]
  },
  {
   "cell_type": "code",
   "execution_count": null,
   "id": "dc108239",
   "metadata": {},
   "outputs": [],
   "source": []
  },
  {
   "cell_type": "markdown",
   "id": "f9760ea6",
   "metadata": {},
   "source": [
    "### Decision Tree"
   ]
  },
  {
   "cell_type": "code",
   "execution_count": null,
   "id": "4609d4af",
   "metadata": {},
   "outputs": [],
   "source": [
    "#Model 1: Entropy model - no max_depth\n",
    "# Declare a variable called entr_model and use tree.DecisionTreeClassifier. \n",
    "entr_model = tree.DecisionTreeClassifier(criterion=\"entropy\", random_state = 1234)\n",
    "\n",
    "# Call fit() on entr_model\n",
    "entr_model.fit(X_train, y_train)\n",
    "\n",
    "# Call predict() on entr_model with X_test passed to it, and assign the result to a variable y_pred \n",
    "y_pred = entr_model.predict(X_test)\n",
    "\n",
    "# Call Series on our y_pred variable with the following: pd.Series(y_pred)\n",
    "y_pred = pd.Series(y_pred)\n",
    "\n",
    "# Check out entr_model\n",
    "entr_model\n",
    "\n",
    "# Now we want to visualize the tree\n",
    "dot_data = StringIO()\n",
    "\n",
    "# We can do so with export_graphviz\n",
    "tree.export_graphviz(entr_model, out_file=dot_data,  \n",
    "                filled=True, rounded=True,\n",
    "                special_characters=True, feature_names=X_train.columns,class_names = [\"NO\", \"YES\"]) \n",
    "\n",
    "\n",
    "# Alternatively for class_names use entr_model.classes_\n",
    "graph = pydotplus.graph_from_dot_data(dot_data.getvalue())  \n",
    "#Image(graph.create_png())\n",
    "    "
   ]
  },
  {
   "cell_type": "code",
   "execution_count": null,
   "id": "481c2e38",
   "metadata": {},
   "outputs": [],
   "source": [
    "#Model 1: Entropy model - no max_depth - interpretation and evaluation\n",
    "print(\"Model Entropy - no max depth\")\n",
    "print(\"Accuracy:\", metrics.accuracy_score(y_test,y_pred))\n",
    "print(\"Balanced accuracy:\", metrics.balanced_accuracy_score(y_test,y_pred))\n",
    "print('Precision score:' , metrics.precision_score(y_test,y_pred))\n",
    "print('Recall score:' , metrics.recall_score(y_test,y_pred))\n",
    "# print('Precision score for \"Yes\"' , metrics.precision_score(y_test,y_pred, pos_label = 1))\n",
    "# print('Precision score for \"No\"' , metrics.precision_score(y_test,y_pred, pos_label = 0))\n",
    "# print('Recall score for \"Yes\"' , metrics.recall_score(y_test,y_pred, pos_label = 1))\n",
    "# print('Recall score for \"No\"' , metrics.recall_score(y_test,y_pred, pos_label = 0))"
   ]
  },
  {
   "cell_type": "code",
   "execution_count": null,
   "id": "209eab0d",
   "metadata": {},
   "outputs": [],
   "source": [
    "# let's look at classification report\n",
    "print(\"Classification Report for Training Data\")\n",
    "print(classification_report(y_train, entr_model.predict(X_train)))\n",
    "print(\"Classification Report for Test Data\")\n",
    "print(classification_report(y_test, entr_model.predict(X_test)))"
   ]
  },
  {
   "cell_type": "code",
   "execution_count": null,
   "id": "2517e72b",
   "metadata": {},
   "outputs": [],
   "source": []
  },
  {
   "cell_type": "code",
   "execution_count": null,
   "id": "37442c4f",
   "metadata": {},
   "outputs": [],
   "source": [
    "# Model 2: Gini impurity model - no max_depth\n",
    "# Make a variable called gini_model, and assign it exactly what you assigned entr_model with above, but with the\n",
    "# criterion changed to 'gini'\n",
    "gini_model = tree.DecisionTreeClassifier(criterion=\"gini\", random_state = 1234)\n",
    "\n",
    "# Call fit() on the gini_model as you did with the entr_model\n",
    "gini_model.fit(X_train, y_train)\n",
    "\n",
    "# Call predict() on the gini_model as you did with the entr_model \n",
    "y_pred = gini_model.predict(X_test)\n",
    "\n",
    "# Turn y_pred into a series, as before\n",
    "y_pred = pd.Series(y_pred)\n",
    "\n",
    "# Check out gini_model\n",
    "gini_model\n",
    "\n",
    "# As before, but make the model name gini_model\n",
    "dot_data = StringIO()\n",
    "\n",
    "tree.export_graphviz(gini_model, out_file=dot_data,  \n",
    "                filled=True, rounded=True,\n",
    "                special_characters=True, feature_names=X_train.columns,class_names = [\"NO\", \"YES\"]) \n",
    "\n",
    "\n",
    "# Alternatively for class_names use gini_model.classes_\n",
    "graph = pydotplus.graph_from_dot_data(dot_data.getvalue())  \n",
    "#Image(graph.create_png())"
   ]
  },
  {
   "cell_type": "code",
   "execution_count": null,
   "id": "7cbb8ccc",
   "metadata": {},
   "outputs": [],
   "source": [
    "# Model 2: Gini impurity model - no max_depth - interpretation and evaluation\n",
    "print(\"Model Gini impurity model\")\n",
    "print(\"Accuracy:\", metrics.accuracy_score(y_test,y_pred))\n",
    "print(\"Balanced accuracy:\", metrics.balanced_accuracy_score(y_test,y_pred))\n",
    "#print('Precision score:' , metrics.precision_score(y_test,y_pred, pos_label = 1))\n",
    "print('Precision score:' , metrics.precision_score(y_test,y_pred))\n",
    "#print('Recall score:' , metrics.recall_score(y_test,y_pred, pos_label = 0))\n",
    "print('Recall score:' , metrics.recall_score(y_test,y_pred))"
   ]
  },
  {
   "cell_type": "code",
   "execution_count": null,
   "id": "43f91be9",
   "metadata": {},
   "outputs": [],
   "source": [
    "# let's look at classification report\n",
    "print(\"Classification Report for Training Data\")\n",
    "print(classification_report(y_train, gini_model.predict(X_train)))\n",
    "print(\"Classification Report for Test Data\")\n",
    "print(classification_report(y_test, gini_model.predict(X_test)))"
   ]
  },
  {
   "cell_type": "code",
   "execution_count": null,
   "id": "822d4f9a",
   "metadata": {},
   "outputs": [],
   "source": []
  },
  {
   "cell_type": "code",
   "execution_count": null,
   "id": "4196b73b",
   "metadata": {},
   "outputs": [],
   "source": [
    "# Model 3: Entropy model - max depth 3\n",
    "# Made a model as before, but call it entr_model2, and make the max_depth parameter equal to 3. \n",
    "# Execute the fitting, predicting, and Series operations as before\n",
    "entr_model2 = tree.DecisionTreeClassifier(criterion=\"entropy\", max_depth = 3, random_state = 1234)\n",
    "entr_model2.fit(X_train, y_train)\n",
    "y_pred = entr_model2.predict(X_test)\n",
    "y_pred = pd.Series(y_pred)\n",
    "entr_model2\n",
    "# As before, we need to visualize the tree to grasp its nature\n",
    "dot_data = StringIO()\n",
    "\n",
    "tree.export_graphviz(entr_model2, out_file=dot_data,  \n",
    "                filled=True, rounded=True,\n",
    "                special_characters=True, feature_names=X_train.columns,class_names = [\"0\", \"1\"]) \n",
    "\n",
    "# Alternatively for class_names use entr_model2.classes_\n",
    "graph = pydotplus.graph_from_dot_data(dot_data.getvalue())  \n",
    "Image(graph.create_png())"
   ]
  },
  {
   "cell_type": "code",
   "execution_count": null,
   "id": "9954c3d6",
   "metadata": {},
   "outputs": [],
   "source": [
    "# Model 3: Entropy model - max depth 3 - interpretation and evaluation\n",
    "print(\"Model Entropy model max depth 3\")\n",
    "print(\"Accuracy:\", metrics.accuracy_score(y_test,y_pred))\n",
    "print(\"Balanced accuracy:\", metrics.balanced_accuracy_score(y_test,y_pred))\n",
    "print('Precision score:' , metrics.precision_score(y_test,y_pred))\n",
    "print('Recall score:' , metrics.recall_score(y_test,y_pred))"
   ]
  },
  {
   "cell_type": "code",
   "execution_count": null,
   "id": "13889296",
   "metadata": {},
   "outputs": [],
   "source": [
    "# let's look at classification report\n",
    "print(\"Classification Report for Training Data\")\n",
    "print(classification_report(y_train, entr_model2.predict(X_train)))\n",
    "print(\"Classification Report for Test Data\")\n",
    "print(classification_report(y_test, entr_model2.predict(X_test)))"
   ]
  },
  {
   "cell_type": "code",
   "execution_count": null,
   "id": "eed79c65",
   "metadata": {},
   "outputs": [],
   "source": []
  },
  {
   "cell_type": "code",
   "execution_count": null,
   "id": "acca1133",
   "metadata": {},
   "outputs": [],
   "source": [
    "# Model 4: Gini impurity model - max depth 3\n",
    "# As before, make a variable, but call it gini_model2, and ensure the max_depth parameter is set to 3\n",
    "gini_model2 = tree.DecisionTreeClassifier(criterion='gini', random_state = 1234, max_depth = 3)\n",
    "\n",
    "# Do the fit, predict, and series transformations as before. \n",
    "gini_model2.fit(X_train, y_train)\n",
    "y_pred = gini_model2.predict(X_test)\n",
    "y_pred = pd.Series(y_pred)\n",
    "gini_model2\n",
    "\n",
    "dot_data = StringIO()\n",
    "\n",
    "tree.export_graphviz(gini_model2, out_file=dot_data,  \n",
    "                filled=True, rounded=True,\n",
    "                special_characters=True, feature_names=X_train.columns,class_names = [\"0\", \"1\"]) \n",
    "\n",
    "# Alternatively for class_names use gini_model2.classes_\n",
    "graph = pydotplus.graph_from_dot_data(dot_data.getvalue())  \n",
    "Image(graph.create_png())\n"
   ]
  },
  {
   "cell_type": "code",
   "execution_count": null,
   "id": "82aeb2e6",
   "metadata": {},
   "outputs": [],
   "source": [
    "# Model 4: Gini impurity model - max depth 3 - interpretation and evaluation\n",
    "print(\"Gini impurity  model - max depth 3\")\n",
    "print(\"Accuracy:\", metrics.accuracy_score(y_test,y_pred))\n",
    "print(\"Balanced accuracy:\", metrics.balanced_accuracy_score(y_test,y_pred))\n",
    "print('Precision score:' , metrics.precision_score(y_test,y_pred))\n",
    "print('Recall score:' , metrics.recall_score(y_test,y_pred))"
   ]
  },
  {
   "cell_type": "code",
   "execution_count": null,
   "id": "2945855e",
   "metadata": {},
   "outputs": [],
   "source": [
    "# let's look at classification report\n",
    "print(\"Classification Report for Training Data\")\n",
    "print(classification_report(y_train, gini_model2.predict(X_train)))\n",
    "print(\"Classification Report for Test Data\")\n",
    "print(classification_report(y_test, gini_model2.predict(X_test)))"
   ]
  },
  {
   "cell_type": "code",
   "execution_count": null,
   "id": "6b7fb189",
   "metadata": {},
   "outputs": [],
   "source": []
  },
  {
   "cell_type": "markdown",
   "id": "7a61258f",
   "metadata": {},
   "source": [
    "### XGBoost"
   ]
  },
  {
   "cell_type": "code",
   "execution_count": null,
   "id": "f902cfb4",
   "metadata": {},
   "outputs": [],
   "source": [
    "# xgboost\n",
    "# get error: ValueError: feature_names must be string, and may not contain [, ] or <\n",
    "xgb_clf= XGBClassifier()\n",
    "xgb_clf.fit(X_train, y_train)\n",
    "y_pred = xgb_clf.predict(X_test)\n",
    "print(f'Accuracy on training data: {accuracy_score(xgb_clf.predict(X_train), y_train):.3f}')\n",
    "print(f'Accuracy on test data: {accuracy_score(xgb_clf.predict(X_test), y_test):.3f}')"
   ]
  },
  {
   "cell_type": "markdown",
   "id": "abe46a57",
   "metadata": {},
   "source": [
    "Let's look at a classification report"
   ]
  },
  {
   "cell_type": "code",
   "execution_count": null,
   "id": "f85d8654",
   "metadata": {},
   "outputs": [],
   "source": [
    "print(\"Classification Report for Training Data\")\n",
    "print(classification_report(y_train, xgb_clf.predict(X_train)))\n",
    "print(\"Classification Report for Test Data\")\n",
    "print(classification_report(y_test, xgb_clf.predict(X_test)))"
   ]
  },
  {
   "cell_type": "code",
   "execution_count": null,
   "id": "f46a3ebb",
   "metadata": {},
   "outputs": [],
   "source": []
  },
  {
   "cell_type": "markdown",
   "id": "75ba2a51",
   "metadata": {},
   "source": [
    "### Naive Bayes"
   ]
  },
  {
   "cell_type": "code",
   "execution_count": null,
   "id": "4d5d400c",
   "metadata": {},
   "outputs": [],
   "source": [
    "# Naive Bayes\n",
    "nb_clf= GaussianNB()\n",
    "nb_clf.fit(X_train, y_train)\n",
    "print('Accuracy on training set:',nb_clf.score(X_train,y_train))\n",
    "print('Accuracy on test set:',nb_clf.score(X_test,y_test))"
   ]
  },
  {
   "cell_type": "code",
   "execution_count": null,
   "id": "1ab9990f",
   "metadata": {},
   "outputs": [],
   "source": [
    "# let's look at classification report\n",
    "print(\"Classification Report for Training Data\")\n",
    "print(classification_report(y_train, nb_clf.predict(X_train)))\n",
    "print(\"Classification Report for Test Data\")\n",
    "print(classification_report(y_test, nb_clf.predict(X_test)))"
   ]
  },
  {
   "cell_type": "code",
   "execution_count": null,
   "id": "ecd5e9b7",
   "metadata": {},
   "outputs": [],
   "source": []
  },
  {
   "cell_type": "markdown",
   "id": "fd296e30",
   "metadata": {},
   "source": [
    "### KNN"
   ]
  },
  {
   "cell_type": "code",
   "execution_count": null,
   "id": "9835800c",
   "metadata": {},
   "outputs": [],
   "source": [
    "# KNN - note read that this tends not to work well on large datasets\n",
    "knn_clf = KNeighborsClassifier(n_neighbors = 5, metric = 'minkowski', p = 2)  \n",
    "knn_clf.fit(X_train, y_train.values.ravel())\n",
    "print('Accuracy on training set:',knn_clf.score(X_train,y_train))\n",
    "print('Accuracy on test set:',knn_clf.score(X_test,y_test))"
   ]
  },
  {
   "cell_type": "code",
   "execution_count": null,
   "id": "6e8d8e34",
   "metadata": {},
   "outputs": [],
   "source": [
    "# test range of K values\n",
    "test_scores = []\n",
    "train_scores = []\n",
    "\n",
    "for i in range(1,10):\n",
    "\n",
    "    knn_clf = KNeighborsClassifier(i)\n",
    "    knn_clf.fit(X_train,y_train.values.ravel())\n",
    "    \n",
    "    train_scores.append(knn_clf.score(X_train,y_train))\n",
    "    test_scores.append(knn_clf.score(X_test,y_test))\n"
   ]
  },
  {
   "cell_type": "code",
   "execution_count": null,
   "id": "c59c7d01",
   "metadata": {},
   "outputs": [],
   "source": [
    "print(test_scores)\n",
    "max(test_scores)"
   ]
  },
  {
   "cell_type": "code",
   "execution_count": null,
   "id": "0de683fe",
   "metadata": {},
   "outputs": [],
   "source": [
    "print(train_scores)\n",
    "max(train_scores)"
   ]
  },
  {
   "cell_type": "code",
   "execution_count": null,
   "id": "c2691539",
   "metadata": {},
   "outputs": [],
   "source": [
    "plt.figure(figsize=(12,5))\n",
    "p = sns.lineplot(train_scores,marker='*',label='Train Score')\n",
    "p = sns.lineplot(test_scores,marker='o',label='Test Score')"
   ]
  },
  {
   "cell_type": "markdown",
   "id": "cb928bec",
   "metadata": {},
   "source": [
    "Based on this plot, it would appear that the best number of neighbors is 5 (four in the chart above), since this is the maximum score on the Test set"
   ]
  },
  {
   "cell_type": "code",
   "execution_count": null,
   "id": "a6df677a",
   "metadata": {},
   "outputs": [],
   "source": [
    "# create model with 5 neighbors\n",
    "knn_clf = KNeighborsClassifier(n_neighbors=5)\n",
    "knn_clf.fit(X_train, y_train.values.ravel())\n",
    "y_predict_test = knn_clf.predict(X_test)\n",
    "y_predict_training = knn_clf.predict(X_train)"
   ]
  },
  {
   "cell_type": "code",
   "execution_count": null,
   "id": "af713b40",
   "metadata": {},
   "outputs": [],
   "source": [
    "# Using GridSearch to find optimal nearest neighbor\n",
    "parameters = {\"n_neighbors\": range(1, 20)}\n",
    "gridsearch = GridSearchCV(KNeighborsClassifier(), parameters)\n",
    "gridsearch.fit(X_train, y_train.values.ravel())\n",
    "GridSearchCV(estimator=KNeighborsClassifier(),\n",
    "             param_grid={'n_neighbors': range(1, 20),\n",
    "                         'weights': ['uniform', 'distance']})"
   ]
  },
  {
   "cell_type": "code",
   "execution_count": null,
   "id": "5d1c9c91",
   "metadata": {},
   "outputs": [],
   "source": [
    "gridsearch.best_params_"
   ]
  },
  {
   "cell_type": "code",
   "execution_count": null,
   "id": "35a06294",
   "metadata": {},
   "outputs": [],
   "source": [
    "# let's look at the confusion matrix\n",
    "#y_pred = knn.predict(X_test)\n",
    "y_pred = knn_clf.predict(X_test)\n",
    "pl = confusion_matrix(y_test,y_pred)\n",
    "display_cm = ConfusionMatrixDisplay(pl, \n",
    "                                    display_labels = ['not Top 100', 'Top 100'])\n",
    "display_cm.plot()\n"
   ]
  },
  {
   "cell_type": "code",
   "execution_count": null,
   "id": "fce7a2e8",
   "metadata": {},
   "outputs": [],
   "source": [
    "# let's look at classification report\n",
    "print(\"Classification Report for Training Data\")\n",
    "print(classification_report(y_train, knn_clf.predict(X_train)))\n",
    "print(\"Classification Report for Test Data\")\n",
    "print(classification_report(y_test, knn_clf.predict(X_test)))"
   ]
  },
  {
   "cell_type": "code",
   "execution_count": null,
   "id": "c6dd8266",
   "metadata": {},
   "outputs": [],
   "source": []
  },
  {
   "cell_type": "markdown",
   "id": "cfba3ef9",
   "metadata": {},
   "source": [
    "#### QUESTION\n",
    "- is it unusual that some models would be showing overfitting, but others don't?\n",
    "- is it different when we calculate the accuracy using .score method versus using y_predict?\n"
   ]
  },
  {
   "cell_type": "code",
   "execution_count": null,
   "id": "924ba100",
   "metadata": {},
   "outputs": [],
   "source": []
  },
  {
   "cell_type": "markdown",
   "id": "8bd41ffb",
   "metadata": {},
   "source": [
    "### Metrics\n",
    "\n",
    "https://docs.google.com/spreadsheets/d/1XeOVhqbcyKPQbFjLbLhdADAcCF-fXuSy2-01xcUH9Uw/edit#gid=0"
   ]
  },
  {
   "cell_type": "code",
   "execution_count": null,
   "id": "7afa54ac",
   "metadata": {},
   "outputs": [],
   "source": []
  },
  {
   "cell_type": "code",
   "execution_count": null,
   "id": "b4e4f030",
   "metadata": {},
   "outputs": [],
   "source": []
  },
  {
   "cell_type": "markdown",
   "id": "6b985625",
   "metadata": {},
   "source": [
    "#### write to CSV\n",
    "from pathlib import Path  \n",
    "filepath = Path('/Users/gregwelliver/Desktop/springboard_files/Music-Popularity-Capstone-Repo/Data/df_data_scaled.csv')  \n",
    "filepath.parent.mkdir(parents=True, exist_ok=True)  \n",
    "df.to_csv(filepath)"
   ]
  },
  {
   "cell_type": "markdown",
   "id": "fb639828",
   "metadata": {},
   "source": [
    "#### write to parquet\n",
    "from pathlib import Path  \n",
    "filepath = Path('/Users/gregwelliver/Desktop/springboard_files/Music-Popularity-Capstone-Repo/Data/df_data_scaled_pq2.parquet')  \n",
    "filepath.parent.mkdir(parents=True, exist_ok=True)  \n",
    "df.to_parquet(filepath, \n",
    "              engine = \"pyarrow\", \n",
    "              compression = None)"
   ]
  },
  {
   "cell_type": "markdown",
   "id": "d50af534",
   "metadata": {},
   "source": [
    "df = pd.read_parquet('/Users/gregwelliver/Desktop/springboard_files/Music-Popularity-Capstone-Repo/Data/df_data_scaled_pq.parquet')"
   ]
  },
  {
   "cell_type": "code",
   "execution_count": null,
   "id": "7cf1c377",
   "metadata": {},
   "outputs": [],
   "source": []
  }
 ],
 "metadata": {
  "kernelspec": {
   "display_name": "Python 3 (ipykernel)",
   "language": "python",
   "name": "python3"
  },
  "language_info": {
   "codemirror_mode": {
    "name": "ipython",
    "version": 3
   },
   "file_extension": ".py",
   "mimetype": "text/x-python",
   "name": "python",
   "nbconvert_exporter": "python",
   "pygments_lexer": "ipython3",
   "version": "3.9.12"
  }
 },
 "nbformat": 4,
 "nbformat_minor": 5
}
