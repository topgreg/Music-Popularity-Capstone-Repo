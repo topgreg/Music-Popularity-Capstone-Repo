{
 "cells": [
  {
   "cell_type": "markdown",
   "id": "a4102f31",
   "metadata": {},
   "source": [
    "# Spotify Music Popularity Capstone - Modeling\n",
    "\n",
    "Greg Welliver   "
   ]
  },
  {
   "cell_type": "code",
   "execution_count": 1,
   "id": "ba529c28",
   "metadata": {},
   "outputs": [],
   "source": [
    "# Import relevant libraries and packages.\n",
    "import numpy as np \n",
    "import pandas as pd \n",
    "import matplotlib.pyplot as plt\n",
    "from matplotlib import rc\n",
    "import matplotlib.ticker as plticker\n",
    "import seaborn as sns\n",
    "sns.set()\n",
    "import statsmodels.api as sm\n",
    "from statsmodels.graphics.api import abline_plot\n",
    "from sklearn.metrics import mean_squared_error, r2_score\n",
    "from sklearn.model_selection import train_test_split\n",
    "from sklearn import linear_model, preprocessing \n",
    "import warnings\n",
    "from scipy import stats"
   ]
  },
  {
   "cell_type": "code",
   "execution_count": 2,
   "id": "e35dafdc",
   "metadata": {
    "scrolled": true
   },
   "outputs": [
    {
     "data": {
      "text/html": [
       "<div>\n",
       "<style scoped>\n",
       "    .dataframe tbody tr th:only-of-type {\n",
       "        vertical-align: middle;\n",
       "    }\n",
       "\n",
       "    .dataframe tbody tr th {\n",
       "        vertical-align: top;\n",
       "    }\n",
       "\n",
       "    .dataframe thead th {\n",
       "        text-align: right;\n",
       "    }\n",
       "</style>\n",
       "<table border=\"1\" class=\"dataframe\">\n",
       "  <thead>\n",
       "    <tr style=\"text-align: right;\">\n",
       "      <th></th>\n",
       "      <th>Top100</th>\n",
       "      <th>acousticness</th>\n",
       "      <th>danceability</th>\n",
       "      <th>duration_ms</th>\n",
       "      <th>energy</th>\n",
       "      <th>instrumentalness</th>\n",
       "      <th>liveness</th>\n",
       "      <th>loudness</th>\n",
       "      <th>speechiness</th>\n",
       "      <th>tempo</th>\n",
       "      <th>...</th>\n",
       "      <th>Label_i! Records</th>\n",
       "      <th>Label_iDEAL</th>\n",
       "      <th>Label_independent</th>\n",
       "      <th>Label_mau5trap</th>\n",
       "      <th>Label_nterscope</th>\n",
       "      <th>Label_will.i.am, A&amp;M</th>\n",
       "      <th>Label_will.i.am, Cherrytree, Interscope, Dandyville</th>\n",
       "      <th>Label_~scape</th>\n",
       "      <th>Label_â„— 2019 Speakerbox Recordings Limited under</th>\n",
       "      <th>Label_å†¬æ¨¹ç¤¾</th>\n",
       "    </tr>\n",
       "  </thead>\n",
       "  <tbody>\n",
       "    <tr>\n",
       "      <th>0</th>\n",
       "      <td>Y</td>\n",
       "      <td>0.030321</td>\n",
       "      <td>0.960526</td>\n",
       "      <td>0.057939</td>\n",
       "      <td>0.661</td>\n",
       "      <td>0.000000</td>\n",
       "      <td>0.0454</td>\n",
       "      <td>0.869679</td>\n",
       "      <td>0.059521</td>\n",
       "      <td>0.421389</td>\n",
       "      <td>...</td>\n",
       "      <td>0</td>\n",
       "      <td>0</td>\n",
       "      <td>0</td>\n",
       "      <td>0</td>\n",
       "      <td>0</td>\n",
       "      <td>0</td>\n",
       "      <td>0</td>\n",
       "      <td>0</td>\n",
       "      <td>0</td>\n",
       "      <td>0</td>\n",
       "    </tr>\n",
       "    <tr>\n",
       "      <th>1</th>\n",
       "      <td>Y</td>\n",
       "      <td>0.143574</td>\n",
       "      <td>0.853239</td>\n",
       "      <td>0.055064</td>\n",
       "      <td>0.806</td>\n",
       "      <td>0.000000</td>\n",
       "      <td>0.0771</td>\n",
       "      <td>0.843131</td>\n",
       "      <td>0.279917</td>\n",
       "      <td>0.382856</td>\n",
       "      <td>...</td>\n",
       "      <td>0</td>\n",
       "      <td>0</td>\n",
       "      <td>0</td>\n",
       "      <td>0</td>\n",
       "      <td>0</td>\n",
       "      <td>0</td>\n",
       "      <td>0</td>\n",
       "      <td>0</td>\n",
       "      <td>0</td>\n",
       "      <td>0</td>\n",
       "    </tr>\n",
       "    <tr>\n",
       "      <th>2</th>\n",
       "      <td>Y</td>\n",
       "      <td>0.037249</td>\n",
       "      <td>0.789474</td>\n",
       "      <td>0.083111</td>\n",
       "      <td>0.768</td>\n",
       "      <td>0.000002</td>\n",
       "      <td>0.5180</td>\n",
       "      <td>0.868416</td>\n",
       "      <td>0.247659</td>\n",
       "      <td>0.322836</td>\n",
       "      <td>...</td>\n",
       "      <td>0</td>\n",
       "      <td>0</td>\n",
       "      <td>0</td>\n",
       "      <td>0</td>\n",
       "      <td>0</td>\n",
       "      <td>0</td>\n",
       "      <td>0</td>\n",
       "      <td>0</td>\n",
       "      <td>0</td>\n",
       "      <td>0</td>\n",
       "    </tr>\n",
       "    <tr>\n",
       "      <th>3</th>\n",
       "      <td>Y</td>\n",
       "      <td>0.061847</td>\n",
       "      <td>0.860324</td>\n",
       "      <td>0.059530</td>\n",
       "      <td>0.700</td>\n",
       "      <td>0.000002</td>\n",
       "      <td>0.2440</td>\n",
       "      <td>0.834646</td>\n",
       "      <td>0.049740</td>\n",
       "      <td>0.410788</td>\n",
       "      <td>...</td>\n",
       "      <td>0</td>\n",
       "      <td>0</td>\n",
       "      <td>0</td>\n",
       "      <td>0</td>\n",
       "      <td>0</td>\n",
       "      <td>0</td>\n",
       "      <td>0</td>\n",
       "      <td>0</td>\n",
       "      <td>0</td>\n",
       "      <td>0</td>\n",
       "    </tr>\n",
       "    <tr>\n",
       "      <th>4</th>\n",
       "      <td>N</td>\n",
       "      <td>0.028213</td>\n",
       "      <td>0.733806</td>\n",
       "      <td>0.048665</td>\n",
       "      <td>0.640</td>\n",
       "      <td>0.000000</td>\n",
       "      <td>0.0990</td>\n",
       "      <td>0.812575</td>\n",
       "      <td>0.345473</td>\n",
       "      <td>0.669470</td>\n",
       "      <td>...</td>\n",
       "      <td>0</td>\n",
       "      <td>0</td>\n",
       "      <td>0</td>\n",
       "      <td>0</td>\n",
       "      <td>0</td>\n",
       "      <td>0</td>\n",
       "      <td>0</td>\n",
       "      <td>0</td>\n",
       "      <td>0</td>\n",
       "      <td>0</td>\n",
       "    </tr>\n",
       "  </tbody>\n",
       "</table>\n",
       "<p>5 rows × 24362 columns</p>\n",
       "</div>"
      ],
      "text/plain": [
       "  Top100  acousticness  danceability  duration_ms  energy  instrumentalness  \\\n",
       "0      Y      0.030321      0.960526     0.057939   0.661          0.000000   \n",
       "1      Y      0.143574      0.853239     0.055064   0.806          0.000000   \n",
       "2      Y      0.037249      0.789474     0.083111   0.768          0.000002   \n",
       "3      Y      0.061847      0.860324     0.059530   0.700          0.000002   \n",
       "4      N      0.028213      0.733806     0.048665   0.640          0.000000   \n",
       "\n",
       "   liveness  loudness  speechiness     tempo  ...  Label_i! Records  \\\n",
       "0    0.0454  0.869679     0.059521  0.421389  ...                 0   \n",
       "1    0.0771  0.843131     0.279917  0.382856  ...                 0   \n",
       "2    0.5180  0.868416     0.247659  0.322836  ...                 0   \n",
       "3    0.2440  0.834646     0.049740  0.410788  ...                 0   \n",
       "4    0.0990  0.812575     0.345473  0.669470  ...                 0   \n",
       "\n",
       "   Label_iDEAL  Label_independent  Label_mau5trap  Label_nterscope  \\\n",
       "0            0                  0               0                0   \n",
       "1            0                  0               0                0   \n",
       "2            0                  0               0                0   \n",
       "3            0                  0               0                0   \n",
       "4            0                  0               0                0   \n",
       "\n",
       "   Label_will.i.am, A&M  Label_will.i.am, Cherrytree, Interscope, Dandyville  \\\n",
       "0                     0                                                  0     \n",
       "1                     0                                                  0     \n",
       "2                     0                                                  0     \n",
       "3                     0                                                  0     \n",
       "4                     0                                                  0     \n",
       "\n",
       "   Label_~scape  Label_â„— 2019 Speakerbox Recordings Limited under  \\\n",
       "0             0                                                  0    \n",
       "1             0                                                  0    \n",
       "2             0                                                  0    \n",
       "3             0                                                  0    \n",
       "4             0                                                  0    \n",
       "\n",
       "   Label_å†¬æ¨¹ç¤¾  \n",
       "0                0  \n",
       "1                0  \n",
       "2                0  \n",
       "3                0  \n",
       "4                0  \n",
       "\n",
       "[5 rows x 24362 columns]"
      ]
     },
     "execution_count": 2,
     "metadata": {},
     "output_type": "execute_result"
    }
   ],
   "source": [
    "# load the data\n",
    "df = pd.read_parquet('/Users/gregwelliver/Desktop/springboard_files/Music-Popularity-Capstone-Repo/Data/df_data_scaled_pq.parquet')\n",
    "df.head()"
   ]
  },
  {
   "cell_type": "code",
   "execution_count": 3,
   "id": "7f9b7199",
   "metadata": {},
   "outputs": [],
   "source": [
    "#df = df.reset_index(drop=True)"
   ]
  },
  {
   "cell_type": "code",
   "execution_count": 4,
   "id": "ef1f6387",
   "metadata": {},
   "outputs": [
    {
     "data": {
      "text/plain": [
       "(255096, 24362)"
      ]
     },
     "execution_count": 4,
     "metadata": {},
     "output_type": "execute_result"
    }
   ],
   "source": [
    "df.shape"
   ]
  },
  {
   "cell_type": "code",
   "execution_count": null,
   "id": "ac854ab2",
   "metadata": {},
   "outputs": [],
   "source": []
  },
  {
   "cell_type": "markdown",
   "id": "2a3ee5ac",
   "metadata": {},
   "source": [
    "### Split data into training and testing subsets"
   ]
  },
  {
   "cell_type": "code",
   "execution_count": null,
   "id": "400354a0",
   "metadata": {},
   "outputs": [],
   "source": [
    "# Create the X and y matrices from the dataframe\n",
    "X = df.drop(columns = ['Top100'])\n",
    "y = df['Top100']"
   ]
  },
  {
   "cell_type": "code",
   "execution_count": null,
   "id": "a4f021af",
   "metadata": {},
   "outputs": [],
   "source": [
    "# from sklearn.model_selection import train_test_split; reserve 20% for test\n",
    "X_train, X_test, y_train, y_test = train_test_split(X, y, test_size=.20, random_state=1)"
   ]
  },
  {
   "cell_type": "code",
   "execution_count": null,
   "id": "a937d1d4",
   "metadata": {},
   "outputs": [],
   "source": []
  },
  {
   "cell_type": "code",
   "execution_count": null,
   "id": "2a86a663",
   "metadata": {},
   "outputs": [],
   "source": []
  },
  {
   "cell_type": "code",
   "execution_count": null,
   "id": "b4e4f030",
   "metadata": {},
   "outputs": [],
   "source": []
  },
  {
   "cell_type": "markdown",
   "id": "6b985625",
   "metadata": {},
   "source": [
    "#### write to CSV\n",
    "from pathlib import Path  \n",
    "filepath = Path('/Users/gregwelliver/Desktop/springboard_files/Music-Popularity-Capstone-Repo/Data/df_data_scaled.csv')  \n",
    "filepath.parent.mkdir(parents=True, exist_ok=True)  \n",
    "df.to_csv(filepath)"
   ]
  },
  {
   "cell_type": "markdown",
   "id": "93c95845",
   "metadata": {},
   "source": [
    "#### write to parquet\n",
    "from pathlib import Path  \n",
    "filepath = Path('/Users/gregwelliver/Desktop/springboard_files/Music-Popularity-Capstone-Repo/Data/df_data_scaled_pq.parquet')  \n",
    "filepath.parent.mkdir(parents=True, exist_ok=True)  \n",
    "df.to_parquet(filepath, \n",
    "              engine = \"pyarrow\", \n",
    "              compression = None)"
   ]
  },
  {
   "cell_type": "markdown",
   "id": "d50af534",
   "metadata": {},
   "source": [
    "df = pd.read_parquet('/Users/gregwelliver/Desktop/springboard_files/Music-Popularity-Capstone-Repo/Data/df_data_scaled_pq.parquet')"
   ]
  },
  {
   "cell_type": "code",
   "execution_count": null,
   "id": "7cf1c377",
   "metadata": {},
   "outputs": [],
   "source": []
  }
 ],
 "metadata": {
  "kernelspec": {
   "display_name": "Python 3 (ipykernel)",
   "language": "python",
   "name": "python3"
  },
  "language_info": {
   "codemirror_mode": {
    "name": "ipython",
    "version": 3
   },
   "file_extension": ".py",
   "mimetype": "text/x-python",
   "name": "python",
   "nbconvert_exporter": "python",
   "pygments_lexer": "ipython3",
   "version": "3.9.12"
  }
 },
 "nbformat": 4,
 "nbformat_minor": 5
}
