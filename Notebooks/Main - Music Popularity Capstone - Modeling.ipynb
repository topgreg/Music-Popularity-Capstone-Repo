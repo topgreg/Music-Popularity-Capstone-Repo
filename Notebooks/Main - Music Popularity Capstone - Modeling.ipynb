{
 "cells": [
  {
   "cell_type": "markdown",
   "id": "a4102f31",
   "metadata": {},
   "source": [
    "# Spotify Music Popularity Capstone - Modeling\n",
    "\n",
    "Greg Welliver   "
   ]
  },
  {
   "cell_type": "markdown",
   "id": "86cb8e5b",
   "metadata": {},
   "source": [
    "Error I keep getting:\n",
    "\n",
    "\"The kernel appears to have died. It will restart automatically.\"\n",
    "\n",
    "Happens whenever I try to create an actual model"
   ]
  },
  {
   "cell_type": "code",
   "execution_count": 18,
   "id": "ba529c28",
   "metadata": {},
   "outputs": [],
   "source": [
    "# Import relevant libraries and packages.\n",
    "import numpy as np \n",
    "import pandas as pd \n",
    "import matplotlib.pyplot as plt\n",
    "from matplotlib import rc\n",
    "import matplotlib.ticker as plticker\n",
    "import matplotlib as mpl\n",
    "import matplotlib.cm as cm\n",
    "from matplotlib.colors import ListedColormap\n",
    "import seaborn as sns\n",
    "sns.set()\n",
    "\n",
    "import statsmodels.api as sm\n",
    "from statsmodels.graphics.api import abline_plot\n",
    "from scipy import stats\n",
    "\n",
    "from sklearn.metrics import mean_squared_error, r2_score\n",
    "from sklearn.model_selection import train_test_split\n",
    "from sklearn import linear_model, preprocessing \n",
    "from sklearn import tree, svm, datasets\n",
    "from sklearn.metrics import accuracy_score, classification_report, confusion_matrix, roc_curve, auc\n",
    "from sklearn.metrics import ConfusionMatrixDisplay\n",
    "from sklearn.metrics import precision_recall_fscore_support as score\n",
    "from sklearn.metrics import accuracy_score, f1_score\n",
    "from sklearn.metrics import classification_report\n",
    "from sklearn.metrics import confusion_matrix\n",
    "from sklearn.metrics import ConfusionMatrixDisplay\n",
    "from sklearn.ensemble import RandomForestClassifier\n",
    "from sklearn.ensemble import RandomForestRegressor\n",
    "from sklearn.ensemble import GradientBoostingClassifier\n",
    "from sklearn.ensemble import VotingClassifier\n",
    "from sklearn.linear_model import LogisticRegression\n",
    "from sklearn.naive_bayes import GaussianNB\n",
    "from sklearn.tree import DecisionTreeClassifier\n",
    "from sklearn.svm import SVC\n",
    "from sklearn.neighbors import KNeighborsClassifier\n",
    "from sklearn.preprocessing import OneHotEncoder as OHE\n",
    "import sklearn.model_selection\n",
    "from sklearn.model_selection import train_test_split\n",
    "from sklearn.model_selection import KFold\n",
    "from sklearn.model_selection import GridSearchCV\n",
    "\n",
    "import xgboost\n",
    "from xgboost import XGBClassifier\n",
    "import warnings"
   ]
  },
  {
   "cell_type": "code",
   "execution_count": 2,
   "id": "e35dafdc",
   "metadata": {
    "scrolled": false
   },
   "outputs": [
    {
     "data": {
      "text/html": [
       "<div>\n",
       "<style scoped>\n",
       "    .dataframe tbody tr th:only-of-type {\n",
       "        vertical-align: middle;\n",
       "    }\n",
       "\n",
       "    .dataframe tbody tr th {\n",
       "        vertical-align: top;\n",
       "    }\n",
       "\n",
       "    .dataframe thead th {\n",
       "        text-align: right;\n",
       "    }\n",
       "</style>\n",
       "<table border=\"1\" class=\"dataframe\">\n",
       "  <thead>\n",
       "    <tr style=\"text-align: right;\">\n",
       "      <th></th>\n",
       "      <th>Top100</th>\n",
       "      <th>acousticness</th>\n",
       "      <th>danceability</th>\n",
       "      <th>duration_ms</th>\n",
       "      <th>energy</th>\n",
       "      <th>instrumentalness</th>\n",
       "      <th>liveness</th>\n",
       "      <th>loudness</th>\n",
       "      <th>speechiness</th>\n",
       "      <th>tempo</th>\n",
       "      <th>...</th>\n",
       "      <th>Label_i! Records</th>\n",
       "      <th>Label_iDEAL</th>\n",
       "      <th>Label_independent</th>\n",
       "      <th>Label_mau5trap</th>\n",
       "      <th>Label_nterscope</th>\n",
       "      <th>Label_will.i.am, A&amp;M</th>\n",
       "      <th>Label_will.i.am, Cherrytree, Interscope, Dandyville</th>\n",
       "      <th>Label_~scape</th>\n",
       "      <th>Label_â„— 2019 Speakerbox Recordings Limited under</th>\n",
       "      <th>Label_å†¬æ¨¹ç¤¾</th>\n",
       "    </tr>\n",
       "  </thead>\n",
       "  <tbody>\n",
       "    <tr>\n",
       "      <th>198077</th>\n",
       "      <td>0</td>\n",
       "      <td>0.997992</td>\n",
       "      <td>0.449393</td>\n",
       "      <td>0.017844</td>\n",
       "      <td>0.0458</td>\n",
       "      <td>0.869870</td>\n",
       "      <td>0.1070</td>\n",
       "      <td>0.493036</td>\n",
       "      <td>0.045994</td>\n",
       "      <td>0.279537</td>\n",
       "      <td>...</td>\n",
       "      <td>0</td>\n",
       "      <td>0</td>\n",
       "      <td>0</td>\n",
       "      <td>0</td>\n",
       "      <td>0</td>\n",
       "      <td>0</td>\n",
       "      <td>0</td>\n",
       "      <td>0</td>\n",
       "      <td>0</td>\n",
       "      <td>0</td>\n",
       "    </tr>\n",
       "    <tr>\n",
       "      <th>245254</th>\n",
       "      <td>0</td>\n",
       "      <td>0.396586</td>\n",
       "      <td>0.629555</td>\n",
       "      <td>0.054748</td>\n",
       "      <td>0.6740</td>\n",
       "      <td>0.000836</td>\n",
       "      <td>0.1990</td>\n",
       "      <td>0.832447</td>\n",
       "      <td>0.043080</td>\n",
       "      <td>0.371054</td>\n",
       "      <td>...</td>\n",
       "      <td>0</td>\n",
       "      <td>0</td>\n",
       "      <td>0</td>\n",
       "      <td>0</td>\n",
       "      <td>0</td>\n",
       "      <td>0</td>\n",
       "      <td>0</td>\n",
       "      <td>0</td>\n",
       "      <td>0</td>\n",
       "      <td>0</td>\n",
       "    </tr>\n",
       "    <tr>\n",
       "      <th>159400</th>\n",
       "      <td>0</td>\n",
       "      <td>0.089558</td>\n",
       "      <td>0.727733</td>\n",
       "      <td>0.161531</td>\n",
       "      <td>0.6790</td>\n",
       "      <td>0.532533</td>\n",
       "      <td>0.1170</td>\n",
       "      <td>0.817988</td>\n",
       "      <td>0.065140</td>\n",
       "      <td>0.368526</td>\n",
       "      <td>...</td>\n",
       "      <td>0</td>\n",
       "      <td>0</td>\n",
       "      <td>0</td>\n",
       "      <td>0</td>\n",
       "      <td>0</td>\n",
       "      <td>0</td>\n",
       "      <td>0</td>\n",
       "      <td>0</td>\n",
       "      <td>0</td>\n",
       "      <td>0</td>\n",
       "    </tr>\n",
       "    <tr>\n",
       "      <th>138996</th>\n",
       "      <td>0</td>\n",
       "      <td>0.105422</td>\n",
       "      <td>0.691296</td>\n",
       "      <td>0.073285</td>\n",
       "      <td>0.7700</td>\n",
       "      <td>0.001952</td>\n",
       "      <td>0.0993</td>\n",
       "      <td>0.785497</td>\n",
       "      <td>0.367326</td>\n",
       "      <td>0.513599</td>\n",
       "      <td>...</td>\n",
       "      <td>0</td>\n",
       "      <td>0</td>\n",
       "      <td>0</td>\n",
       "      <td>0</td>\n",
       "      <td>0</td>\n",
       "      <td>0</td>\n",
       "      <td>0</td>\n",
       "      <td>0</td>\n",
       "      <td>0</td>\n",
       "      <td>0</td>\n",
       "    </tr>\n",
       "    <tr>\n",
       "      <th>98456</th>\n",
       "      <td>0</td>\n",
       "      <td>0.003102</td>\n",
       "      <td>0.478745</td>\n",
       "      <td>0.046029</td>\n",
       "      <td>0.9630</td>\n",
       "      <td>0.000000</td>\n",
       "      <td>0.2440</td>\n",
       "      <td>0.876683</td>\n",
       "      <td>0.059417</td>\n",
       "      <td>0.604974</td>\n",
       "      <td>...</td>\n",
       "      <td>0</td>\n",
       "      <td>0</td>\n",
       "      <td>0</td>\n",
       "      <td>0</td>\n",
       "      <td>0</td>\n",
       "      <td>0</td>\n",
       "      <td>0</td>\n",
       "      <td>0</td>\n",
       "      <td>0</td>\n",
       "      <td>0</td>\n",
       "    </tr>\n",
       "  </tbody>\n",
       "</table>\n",
       "<p>5 rows × 24362 columns</p>\n",
       "</div>"
      ],
      "text/plain": [
       "        Top100  acousticness  danceability  duration_ms  energy  \\\n",
       "198077       0      0.997992      0.449393     0.017844  0.0458   \n",
       "245254       0      0.396586      0.629555     0.054748  0.6740   \n",
       "159400       0      0.089558      0.727733     0.161531  0.6790   \n",
       "138996       0      0.105422      0.691296     0.073285  0.7700   \n",
       "98456        0      0.003102      0.478745     0.046029  0.9630   \n",
       "\n",
       "        instrumentalness  liveness  loudness  speechiness     tempo  ...  \\\n",
       "198077          0.869870    0.1070  0.493036     0.045994  0.279537  ...   \n",
       "245254          0.000836    0.1990  0.832447     0.043080  0.371054  ...   \n",
       "159400          0.532533    0.1170  0.817988     0.065140  0.368526  ...   \n",
       "138996          0.001952    0.0993  0.785497     0.367326  0.513599  ...   \n",
       "98456           0.000000    0.2440  0.876683     0.059417  0.604974  ...   \n",
       "\n",
       "        Label_i! Records  Label_iDEAL  Label_independent  Label_mau5trap  \\\n",
       "198077                 0            0                  0               0   \n",
       "245254                 0            0                  0               0   \n",
       "159400                 0            0                  0               0   \n",
       "138996                 0            0                  0               0   \n",
       "98456                  0            0                  0               0   \n",
       "\n",
       "        Label_nterscope  Label_will.i.am, A&M  \\\n",
       "198077                0                     0   \n",
       "245254                0                     0   \n",
       "159400                0                     0   \n",
       "138996                0                     0   \n",
       "98456                 0                     0   \n",
       "\n",
       "        Label_will.i.am, Cherrytree, Interscope, Dandyville  Label_~scape  \\\n",
       "198077                                                  0               0   \n",
       "245254                                                  0               0   \n",
       "159400                                                  0               0   \n",
       "138996                                                  0               0   \n",
       "98456                                                   0               0   \n",
       "\n",
       "        Label_â„— 2019 Speakerbox Recordings Limited under  Label_å†¬æ¨¹ç¤¾  \n",
       "198077                                                  0                 0  \n",
       "245254                                                  0                 0  \n",
       "159400                                                  0                 0  \n",
       "138996                                                  0                 0  \n",
       "98456                                                   0                 0  \n",
       "\n",
       "[5 rows x 24362 columns]"
      ]
     },
     "execution_count": 2,
     "metadata": {},
     "output_type": "execute_result"
    }
   ],
   "source": [
    "# load the data\n",
    "df = pd.read_parquet('/Users/gregwelliver/Desktop/springboard_files/Music-Popularity-Capstone-Repo/Data/df_data_scaled_pq_rus.parquet')\n",
    "df.head()"
   ]
  },
  {
   "cell_type": "code",
   "execution_count": 3,
   "id": "7f9b7199",
   "metadata": {},
   "outputs": [],
   "source": [
    "#df = df.reset_index(drop=True)"
   ]
  },
  {
   "cell_type": "code",
   "execution_count": 4,
   "id": "ef1f6387",
   "metadata": {},
   "outputs": [
    {
     "data": {
      "text/plain": [
       "(3726, 24362)"
      ]
     },
     "execution_count": 4,
     "metadata": {},
     "output_type": "execute_result"
    }
   ],
   "source": [
    "df.shape"
   ]
  },
  {
   "cell_type": "code",
   "execution_count": 5,
   "id": "ac854ab2",
   "metadata": {},
   "outputs": [],
   "source": [
    "# I believe the size of the dataset (~255K rows) is causing issues with the modeling.  Therefore I will reduce the size of the majority class"
   ]
  },
  {
   "cell_type": "code",
   "execution_count": null,
   "id": "1f8fd05b",
   "metadata": {},
   "outputs": [],
   "source": []
  },
  {
   "cell_type": "markdown",
   "id": "2a3ee5ac",
   "metadata": {},
   "source": [
    "### Split data into training and testing subsets"
   ]
  },
  {
   "cell_type": "code",
   "execution_count": 6,
   "id": "400354a0",
   "metadata": {},
   "outputs": [],
   "source": [
    "# Create the X and y matrices from the dataframe\n",
    "X = df.drop(columns = ['Top100'])\n",
    "y = df['Top100']"
   ]
  },
  {
   "cell_type": "code",
   "execution_count": 7,
   "id": "a4f021af",
   "metadata": {},
   "outputs": [],
   "source": [
    "# from sklearn.model_selection import train_test_split; reserve 20% for test\n",
    "X_train, X_test, y_train, y_test = train_test_split(X, y, test_size=.20, random_state=123)"
   ]
  },
  {
   "cell_type": "code",
   "execution_count": null,
   "id": "a937d1d4",
   "metadata": {},
   "outputs": [],
   "source": []
  },
  {
   "cell_type": "markdown",
   "id": "945d2915",
   "metadata": {},
   "source": [
    "### Model selection\n",
    "- test out a couple different ones (making sure to try different parameters within each algorithm as well), and select the best one by cross-validation\n",
    "- if you have a huge dataset, then whichever classification algorithm you use might not matter so much in terms of classification performance (so choose your algorithm based on speed or ease of use instead).\n",
    "#### QUESTION: when/how does speed become an important consideration?\n",
    "- If your training set is small, high bias/low variance classifiers (e.g., Naive Bayes) have an advantage over low bias/high variance classifiers (e.g., kNN), since the latter will overfit. But low bias/high variance classifiers start to win out as your training set grows (they have lower asymptotic error), since high bias classifiers aren’t powerful enough to provide accurate models.\n",
    "\n"
   ]
  },
  {
   "cell_type": "markdown",
   "id": "c4d4f92d",
   "metadata": {},
   "source": [
    "#### Algorithms we will try:\n",
    "- logistic regression\n",
    "- random forest\n",
    "- decision tree\n",
    "- naive bayes\n",
    "- k-nearest neighbor\n",
    "- \n",
    "\n",
    "#### QUESTION: try these?\n",
    "- svm"
   ]
  },
  {
   "cell_type": "markdown",
   "id": "0655e1e3",
   "metadata": {},
   "source": [
    "#### Logistic Regression"
   ]
  },
  {
   "cell_type": "code",
   "execution_count": 8,
   "id": "e3714181",
   "metadata": {},
   "outputs": [
    {
     "name": "stderr",
     "output_type": "stream",
     "text": [
      "/Users/gregwelliver/opt/anaconda3/lib/python3.9/site-packages/sklearn/linear_model/_logistic.py:814: ConvergenceWarning: lbfgs failed to converge (status=1):\n",
      "STOP: TOTAL NO. of ITERATIONS REACHED LIMIT.\n",
      "\n",
      "Increase the number of iterations (max_iter) or scale the data as shown in:\n",
      "    https://scikit-learn.org/stable/modules/preprocessing.html\n",
      "Please also refer to the documentation for alternative solver options:\n",
      "    https://scikit-learn.org/stable/modules/linear_model.html#logistic-regression\n",
      "  n_iter_i = _check_optimize_result(\n"
     ]
    },
    {
     "name": "stdout",
     "output_type": "stream",
     "text": [
      "Accuracy on training set: 0.9211409395973155\n",
      "Accuracy on test set: 0.8941018766756033\n"
     ]
    }
   ],
   "source": [
    "# Logistic Regression\n",
    "lr_clf = LogisticRegression(random_state = 123)\n",
    "lr_clf.fit(X_train, y_train)\n",
    "print('Accuracy on training set:',lr_clf.score(X_train,y_train))\n",
    "print('Accuracy on test set:',lr_clf.score(X_test,y_test))"
   ]
  },
  {
   "cell_type": "code",
   "execution_count": null,
   "id": "3d2110c9",
   "metadata": {},
   "outputs": [],
   "source": []
  },
  {
   "cell_type": "markdown",
   "id": "55278952",
   "metadata": {},
   "source": [
    "#### Random Forest Regression"
   ]
  },
  {
   "cell_type": "code",
   "execution_count": 9,
   "id": "5af2c7b8",
   "metadata": {},
   "outputs": [
    {
     "name": "stdout",
     "output_type": "stream",
     "text": [
      "Accuracy on training set: 0.921610597019228\n",
      "Accuracy on test set: 0.6222947708894879\n"
     ]
    }
   ],
   "source": [
    "# random forest regression\n",
    "rf_clf = RandomForestRegressor(n_estimators = 10, random_state = 123)\n",
    "rf_clf.fit(X_train, y_train)\n",
    "print('Accuracy on training set:',rf_clf.score(X_train,y_train))\n",
    "print('Accuracy on test set:',rf_clf.score(X_test,y_test))"
   ]
  },
  {
   "cell_type": "code",
   "execution_count": null,
   "id": "48df9e4a",
   "metadata": {},
   "outputs": [],
   "source": []
  },
  {
   "cell_type": "markdown",
   "id": "56c7df39",
   "metadata": {},
   "source": [
    "#### try other random forest"
   ]
  },
  {
   "cell_type": "code",
   "execution_count": null,
   "id": "a4a1e7e7",
   "metadata": {},
   "outputs": [],
   "source": []
  },
  {
   "cell_type": "markdown",
   "id": "24823ade",
   "metadata": {},
   "source": [
    "#### Decision tree"
   ]
  },
  {
   "cell_type": "code",
   "execution_count": 10,
   "id": "59d50b46",
   "metadata": {},
   "outputs": [
    {
     "name": "stdout",
     "output_type": "stream",
     "text": [
      "Accuracy on training set: 1.0\n",
      "Accuracy on test set: 0.853887399463807\n"
     ]
    }
   ],
   "source": [
    "# decision tree\n",
    "dec_clf = DecisionTreeClassifier()\n",
    "dec_clf.fit(X_train, y_train)\n",
    "print('Accuracy on training set:',dec_clf.score(X_train, y_train))\n",
    "print('Accuracy on test set:',dec_clf.score(X_test, y_test))\n"
   ]
  },
  {
   "cell_type": "code",
   "execution_count": null,
   "id": "6823e7cc",
   "metadata": {},
   "outputs": [],
   "source": []
  },
  {
   "cell_type": "markdown",
   "id": "a10d4f62",
   "metadata": {},
   "source": [
    "### another decision tree method?"
   ]
  },
  {
   "cell_type": "code",
   "execution_count": null,
   "id": "45dab4bb",
   "metadata": {},
   "outputs": [],
   "source": []
  },
  {
   "cell_type": "markdown",
   "id": "fc08318d",
   "metadata": {},
   "source": [
    "### xgboost"
   ]
  },
  {
   "cell_type": "code",
   "execution_count": 15,
   "id": "edd10749",
   "metadata": {},
   "outputs": [],
   "source": [
    "# xgboost\n",
    "# get error: ValueError: feature_names must be string, and may not contain [, ] or <\n",
    "# xgb_clf= XGBClassifier()\n",
    "# xgb_clf.fit(X_train, y_train)\n",
    "# rint('Accuracy score on train_data: ', accuracy_score(y_true = y_train, y_pred = xgb.predict(x_train).round()))\n",
    "# print('Accuracy score on test_data: ', accuracy_score(y_true = y_test, y_pred = xgb.predict(x_test).round()))"
   ]
  },
  {
   "cell_type": "code",
   "execution_count": null,
   "id": "04a4dfc2",
   "metadata": {},
   "outputs": [],
   "source": []
  },
  {
   "cell_type": "markdown",
   "id": "54d1aeb8",
   "metadata": {},
   "source": [
    "#### Naive Bayes"
   ]
  },
  {
   "cell_type": "code",
   "execution_count": 16,
   "id": "2b38bd3d",
   "metadata": {},
   "outputs": [
    {
     "name": "stdout",
     "output_type": "stream",
     "text": [
      "Accuracy on training set: 0.9359060402684564\n",
      "Accuracy on test set: 0.7426273458445041\n"
     ]
    }
   ],
   "source": [
    "# Naive Bayes\n",
    "nb_clf= GaussianNB()\n",
    "nb_clf.fit(X_train, y_train)\n",
    "print('Accuracy on training set:',nb_clf.score(X_train,y_train))\n",
    "print('Accuracy on test set:',nb_clf.score(X_test,y_test))"
   ]
  },
  {
   "cell_type": "code",
   "execution_count": null,
   "id": "3f009b47",
   "metadata": {},
   "outputs": [],
   "source": []
  },
  {
   "cell_type": "markdown",
   "id": "3e88b6fc",
   "metadata": {},
   "source": [
    "#### KNN"
   ]
  },
  {
   "cell_type": "code",
   "execution_count": 14,
   "id": "a1efc7e2",
   "metadata": {},
   "outputs": [
    {
     "name": "stdout",
     "output_type": "stream",
     "text": [
      "Accuracy on training set: 0.889261744966443\n",
      "Accuracy on test set: 0.839142091152815\n"
     ]
    }
   ],
   "source": [
    "# k-NN - note read that this tends not to work well on large datasets\n",
    "knn_clf = KNeighborsClassifier(n_neighbors = 5, metric = 'minkowski', p = 2)  \n",
    "#You can change these hyperparameters like metric etc.\n",
    "knn_clf.fit(X_train, y_train)\n",
    "print('Accuracy on training set:',knn_clf.score(X_train,y_train))\n",
    "print('Accuracy on test set:',knn_clf.score(X_test,y_test))"
   ]
  },
  {
   "cell_type": "code",
   "execution_count": null,
   "id": "f4c81a0d",
   "metadata": {},
   "outputs": [],
   "source": []
  },
  {
   "cell_type": "code",
   "execution_count": null,
   "id": "25c01f51",
   "metadata": {},
   "outputs": [],
   "source": []
  },
  {
   "cell_type": "code",
   "execution_count": null,
   "id": "ab256b37",
   "metadata": {},
   "outputs": [],
   "source": []
  },
  {
   "cell_type": "code",
   "execution_count": null,
   "id": "00d4694f",
   "metadata": {},
   "outputs": [],
   "source": []
  },
  {
   "cell_type": "code",
   "execution_count": null,
   "id": "b57672f5",
   "metadata": {},
   "outputs": [],
   "source": []
  },
  {
   "cell_type": "markdown",
   "id": "cba747ed",
   "metadata": {},
   "source": [
    "classifiers = []\n",
    "\n",
    "model1 = xgboost.XGBClassifier()\n",
    "classifiers.append(model1)\n",
    "model2 = svm.SVC()\n",
    "classifiers.append(model2)\n",
    "model3 = tree.DecisionTreeClassifier()\n",
    "classifiers.append(model3)\n",
    "model4 = RandomForestClassifier()\n",
    "classifiers.append(model4)"
   ]
  },
  {
   "cell_type": "markdown",
   "id": "14762561",
   "metadata": {},
   "source": [
    "for clf in classifiers:\n",
    "    clf.fit(X_train, y_train)\n",
    "    y_pred= clf.predict(X_test)\n",
    "    acc = accuracy_score(y_test, y_pred)\n",
    "    print(\"Accuracy of %s is %s\"%(clf, acc))\n",
    "    cm = confusion_matrix(y_test, y_pred)\n",
    "    print(\"Confusion Matrix of %s is %s\"%(clf, cm))\n"
   ]
  },
  {
   "cell_type": "code",
   "execution_count": null,
   "id": "2a86a663",
   "metadata": {},
   "outputs": [],
   "source": []
  },
  {
   "cell_type": "code",
   "execution_count": null,
   "id": "b4e4f030",
   "metadata": {},
   "outputs": [],
   "source": []
  },
  {
   "cell_type": "markdown",
   "id": "6b985625",
   "metadata": {},
   "source": [
    "#### write to CSV\n",
    "from pathlib import Path  \n",
    "filepath = Path('/Users/gregwelliver/Desktop/springboard_files/Music-Popularity-Capstone-Repo/Data/df_data_scaled.csv')  \n",
    "filepath.parent.mkdir(parents=True, exist_ok=True)  \n",
    "df.to_csv(filepath)"
   ]
  },
  {
   "cell_type": "markdown",
   "id": "436205de",
   "metadata": {},
   "source": [
    "#### write to parquet\n",
    "from pathlib import Path  \n",
    "filepath = Path('/Users/gregwelliver/Desktop/springboard_files/Music-Popularity-Capstone-Repo/Data/df_data_scaled_pq2.parquet')  \n",
    "filepath.parent.mkdir(parents=True, exist_ok=True)  \n",
    "df.to_parquet(filepath, \n",
    "              engine = \"pyarrow\", \n",
    "              compression = None)"
   ]
  },
  {
   "cell_type": "markdown",
   "id": "d50af534",
   "metadata": {},
   "source": [
    "df = pd.read_parquet('/Users/gregwelliver/Desktop/springboard_files/Music-Popularity-Capstone-Repo/Data/df_data_scaled_pq.parquet')"
   ]
  },
  {
   "cell_type": "code",
   "execution_count": null,
   "id": "7cf1c377",
   "metadata": {},
   "outputs": [],
   "source": []
  }
 ],
 "metadata": {
  "kernelspec": {
   "display_name": "Python 3 (ipykernel)",
   "language": "python",
   "name": "python3"
  },
  "language_info": {
   "codemirror_mode": {
    "name": "ipython",
    "version": 3
   },
   "file_extension": ".py",
   "mimetype": "text/x-python",
   "name": "python",
   "nbconvert_exporter": "python",
   "pygments_lexer": "ipython3",
   "version": "3.9.12"
  }
 },
 "nbformat": 4,
 "nbformat_minor": 5
}
