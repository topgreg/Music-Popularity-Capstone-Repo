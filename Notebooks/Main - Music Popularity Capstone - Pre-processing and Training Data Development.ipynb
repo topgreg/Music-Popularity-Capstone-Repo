{
 "cells": [
  {
   "cell_type": "markdown",
   "id": "a4102f31",
   "metadata": {},
   "source": [
    "# Spotify Music Popularity Capstone - Pre-processing and Training Data Development\n",
    "\n",
    "Greg Welliver   "
   ]
  },
  {
   "cell_type": "code",
   "execution_count": 1,
   "id": "ba529c28",
   "metadata": {},
   "outputs": [],
   "source": [
    "# Import relevant libraries and packages.\n",
    "import numpy as np \n",
    "import pandas as pd \n",
    "import matplotlib.pyplot as plt\n",
    "from matplotlib import rc\n",
    "import matplotlib.ticker as plticker\n",
    "import seaborn as sns\n",
    "sns.set()\n",
    "import statsmodels.api as sm\n",
    "from statsmodels.graphics.api import abline_plot\n",
    "from sklearn.metrics import mean_squared_error, r2_score\n",
    "from sklearn.model_selection import train_test_split\n",
    "from sklearn import linear_model, preprocessing \n",
    "import warnings\n",
    "from scipy import stats"
   ]
  },
  {
   "cell_type": "code",
   "execution_count": 2,
   "id": "e35dafdc",
   "metadata": {
    "scrolled": true
   },
   "outputs": [
    {
     "data": {
      "text/html": [
       "<div>\n",
       "<style scoped>\n",
       "    .dataframe tbody tr th:only-of-type {\n",
       "        vertical-align: middle;\n",
       "    }\n",
       "\n",
       "    .dataframe tbody tr th {\n",
       "        vertical-align: top;\n",
       "    }\n",
       "\n",
       "    .dataframe thead th {\n",
       "        text-align: right;\n",
       "    }\n",
       "</style>\n",
       "<table border=\"1\" class=\"dataframe\">\n",
       "  <thead>\n",
       "    <tr style=\"text-align: right;\">\n",
       "      <th></th>\n",
       "      <th>track_id</th>\n",
       "      <th>track_name</th>\n",
       "      <th>track_genre</th>\n",
       "      <th>artist_name</th>\n",
       "      <th>track_popularity</th>\n",
       "      <th>popular_year</th>\n",
       "      <th>Top100</th>\n",
       "      <th>key</th>\n",
       "      <th>acousticness</th>\n",
       "      <th>danceability</th>\n",
       "      <th>...</th>\n",
       "      <th>modality</th>\n",
       "      <th>speechiness</th>\n",
       "      <th>tempo</th>\n",
       "      <th>time_signature</th>\n",
       "      <th>valence</th>\n",
       "      <th>second_artist</th>\n",
       "      <th>artist_country</th>\n",
       "      <th>collaboration</th>\n",
       "      <th>prevTop100</th>\n",
       "      <th>Label</th>\n",
       "    </tr>\n",
       "  </thead>\n",
       "  <tbody>\n",
       "    <tr>\n",
       "      <th>0</th>\n",
       "      <td>3yfqSUWxFvZELEM4PmlwIR</td>\n",
       "      <td>The Real Slim Shady</td>\n",
       "      <td>hip-hop</td>\n",
       "      <td>Eminem</td>\n",
       "      <td>88.0</td>\n",
       "      <td>2000</td>\n",
       "      <td>Y</td>\n",
       "      <td>5.0</td>\n",
       "      <td>0.0302</td>\n",
       "      <td>0.949</td>\n",
       "      <td>...</td>\n",
       "      <td>0.0</td>\n",
       "      <td>0.0572</td>\n",
       "      <td>104.504</td>\n",
       "      <td>4.0</td>\n",
       "      <td>0.760</td>\n",
       "      <td>NaN</td>\n",
       "      <td>United States</td>\n",
       "      <td>N</td>\n",
       "      <td>N</td>\n",
       "      <td>Aftermath, Interscope, Shady</td>\n",
       "    </tr>\n",
       "    <tr>\n",
       "      <th>12</th>\n",
       "      <td>0I3q5fE6wg7LIfHGngUTnV</td>\n",
       "      <td>Ms. Jackson</td>\n",
       "      <td>hip-hop</td>\n",
       "      <td>Outkast</td>\n",
       "      <td>82.0</td>\n",
       "      <td>2001</td>\n",
       "      <td>Y</td>\n",
       "      <td>4.0</td>\n",
       "      <td>0.1430</td>\n",
       "      <td>0.843</td>\n",
       "      <td>...</td>\n",
       "      <td>0.0</td>\n",
       "      <td>0.2690</td>\n",
       "      <td>94.948</td>\n",
       "      <td>4.0</td>\n",
       "      <td>0.613</td>\n",
       "      <td>NaN</td>\n",
       "      <td>NaN</td>\n",
       "      <td>N</td>\n",
       "      <td>N</td>\n",
       "      <td>NaN</td>\n",
       "    </tr>\n",
       "    <tr>\n",
       "      <th>13</th>\n",
       "      <td>3UmaczJpikHgJFyBTAJVoz</td>\n",
       "      <td>Stan</td>\n",
       "      <td>hip-hop</td>\n",
       "      <td>Eminem</td>\n",
       "      <td>85.0</td>\n",
       "      <td>2001</td>\n",
       "      <td>Y</td>\n",
       "      <td>6.0</td>\n",
       "      <td>0.0371</td>\n",
       "      <td>0.780</td>\n",
       "      <td>...</td>\n",
       "      <td>0.0</td>\n",
       "      <td>0.2380</td>\n",
       "      <td>80.063</td>\n",
       "      <td>4.0</td>\n",
       "      <td>0.507</td>\n",
       "      <td>NaN</td>\n",
       "      <td>United States</td>\n",
       "      <td>N</td>\n",
       "      <td>N</td>\n",
       "      <td>Aftermath, Interscope, Shady</td>\n",
       "    </tr>\n",
       "    <tr>\n",
       "      <th>25</th>\n",
       "      <td>3Gf5nttwcX9aaSQXRWidEZ</td>\n",
       "      <td>Ride Wit Me</td>\n",
       "      <td>hip-hop</td>\n",
       "      <td>Nelly</td>\n",
       "      <td>75.0</td>\n",
       "      <td>2001</td>\n",
       "      <td>Y</td>\n",
       "      <td>7.0</td>\n",
       "      <td>0.0616</td>\n",
       "      <td>0.850</td>\n",
       "      <td>...</td>\n",
       "      <td>1.0</td>\n",
       "      <td>0.0478</td>\n",
       "      <td>101.875</td>\n",
       "      <td>4.0</td>\n",
       "      <td>0.722</td>\n",
       "      <td>NaN</td>\n",
       "      <td>United States</td>\n",
       "      <td>N</td>\n",
       "      <td>N</td>\n",
       "      <td>Universal Motown</td>\n",
       "    </tr>\n",
       "    <tr>\n",
       "      <th>31</th>\n",
       "      <td>6glsMWIMIxQ4BedzLqGVi4</td>\n",
       "      <td>So Fresh, So Clean</td>\n",
       "      <td>hip-hop</td>\n",
       "      <td>Outkast</td>\n",
       "      <td>72.0</td>\n",
       "      <td>0</td>\n",
       "      <td>N</td>\n",
       "      <td>5.0</td>\n",
       "      <td>0.0281</td>\n",
       "      <td>0.725</td>\n",
       "      <td>...</td>\n",
       "      <td>0.0</td>\n",
       "      <td>0.3320</td>\n",
       "      <td>166.028</td>\n",
       "      <td>3.0</td>\n",
       "      <td>0.915</td>\n",
       "      <td>NaN</td>\n",
       "      <td>NaN</td>\n",
       "      <td>N</td>\n",
       "      <td>N</td>\n",
       "      <td>NaN</td>\n",
       "    </tr>\n",
       "  </tbody>\n",
       "</table>\n",
       "<p>5 rows × 25 columns</p>\n",
       "</div>"
      ],
      "text/plain": [
       "                  track_id           track_name track_genre artist_name  \\\n",
       "0   3yfqSUWxFvZELEM4PmlwIR  The Real Slim Shady     hip-hop      Eminem   \n",
       "12  0I3q5fE6wg7LIfHGngUTnV          Ms. Jackson     hip-hop     Outkast   \n",
       "13  3UmaczJpikHgJFyBTAJVoz                 Stan     hip-hop      Eminem   \n",
       "25  3Gf5nttwcX9aaSQXRWidEZ          Ride Wit Me     hip-hop       Nelly   \n",
       "31  6glsMWIMIxQ4BedzLqGVi4   So Fresh, So Clean     hip-hop     Outkast   \n",
       "\n",
       "    track_popularity  popular_year Top100  key  acousticness  danceability  \\\n",
       "0               88.0          2000      Y  5.0        0.0302         0.949   \n",
       "12              82.0          2001      Y  4.0        0.1430         0.843   \n",
       "13              85.0          2001      Y  6.0        0.0371         0.780   \n",
       "25              75.0          2001      Y  7.0        0.0616         0.850   \n",
       "31              72.0             0      N  5.0        0.0281         0.725   \n",
       "\n",
       "    ...  modality  speechiness    tempo  time_signature  valence  \\\n",
       "0   ...       0.0       0.0572  104.504             4.0    0.760   \n",
       "12  ...       0.0       0.2690   94.948             4.0    0.613   \n",
       "13  ...       0.0       0.2380   80.063             4.0    0.507   \n",
       "25  ...       1.0       0.0478  101.875             4.0    0.722   \n",
       "31  ...       0.0       0.3320  166.028             3.0    0.915   \n",
       "\n",
       "    second_artist  artist_country  collaboration  prevTop100  \\\n",
       "0             NaN   United States              N           N   \n",
       "12            NaN             NaN              N           N   \n",
       "13            NaN   United States              N           N   \n",
       "25            NaN   United States              N           N   \n",
       "31            NaN             NaN              N           N   \n",
       "\n",
       "                           Label  \n",
       "0   Aftermath, Interscope, Shady  \n",
       "12                           NaN  \n",
       "13  Aftermath, Interscope, Shady  \n",
       "25              Universal Motown  \n",
       "31                           NaN  \n",
       "\n",
       "[5 rows x 25 columns]"
      ]
     },
     "execution_count": 2,
     "metadata": {},
     "output_type": "execute_result"
    }
   ],
   "source": [
    "# load the dataframe\n",
    "df = pd.read_csv(\"../Data/Merged_Data7.csv\", index_col=[0])\n",
    "df.head()"
   ]
  },
  {
   "cell_type": "code",
   "execution_count": 3,
   "id": "7f9b7199",
   "metadata": {},
   "outputs": [],
   "source": [
    "df = df.reset_index(drop=True)"
   ]
  },
  {
   "cell_type": "code",
   "execution_count": 4,
   "id": "16bd66cf",
   "metadata": {},
   "outputs": [
    {
     "data": {
      "text/html": [
       "<div>\n",
       "<style scoped>\n",
       "    .dataframe tbody tr th:only-of-type {\n",
       "        vertical-align: middle;\n",
       "    }\n",
       "\n",
       "    .dataframe tbody tr th {\n",
       "        vertical-align: top;\n",
       "    }\n",
       "\n",
       "    .dataframe thead th {\n",
       "        text-align: right;\n",
       "    }\n",
       "</style>\n",
       "<table border=\"1\" class=\"dataframe\">\n",
       "  <thead>\n",
       "    <tr style=\"text-align: right;\">\n",
       "      <th></th>\n",
       "      <th>track_id</th>\n",
       "      <th>track_name</th>\n",
       "      <th>track_genre</th>\n",
       "      <th>artist_name</th>\n",
       "      <th>track_popularity</th>\n",
       "      <th>popular_year</th>\n",
       "      <th>Top100</th>\n",
       "      <th>key</th>\n",
       "      <th>acousticness</th>\n",
       "      <th>danceability</th>\n",
       "      <th>...</th>\n",
       "      <th>modality</th>\n",
       "      <th>speechiness</th>\n",
       "      <th>tempo</th>\n",
       "      <th>time_signature</th>\n",
       "      <th>valence</th>\n",
       "      <th>second_artist</th>\n",
       "      <th>artist_country</th>\n",
       "      <th>collaboration</th>\n",
       "      <th>prevTop100</th>\n",
       "      <th>Label</th>\n",
       "    </tr>\n",
       "  </thead>\n",
       "  <tbody>\n",
       "    <tr>\n",
       "      <th>0</th>\n",
       "      <td>3yfqSUWxFvZELEM4PmlwIR</td>\n",
       "      <td>The Real Slim Shady</td>\n",
       "      <td>hip-hop</td>\n",
       "      <td>Eminem</td>\n",
       "      <td>88.0</td>\n",
       "      <td>2000</td>\n",
       "      <td>Y</td>\n",
       "      <td>5.0</td>\n",
       "      <td>0.0302</td>\n",
       "      <td>0.949</td>\n",
       "      <td>...</td>\n",
       "      <td>0.0</td>\n",
       "      <td>0.0572</td>\n",
       "      <td>104.504</td>\n",
       "      <td>4.0</td>\n",
       "      <td>0.760</td>\n",
       "      <td>NaN</td>\n",
       "      <td>United States</td>\n",
       "      <td>N</td>\n",
       "      <td>N</td>\n",
       "      <td>Aftermath, Interscope, Shady</td>\n",
       "    </tr>\n",
       "    <tr>\n",
       "      <th>1</th>\n",
       "      <td>0I3q5fE6wg7LIfHGngUTnV</td>\n",
       "      <td>Ms. Jackson</td>\n",
       "      <td>hip-hop</td>\n",
       "      <td>Outkast</td>\n",
       "      <td>82.0</td>\n",
       "      <td>2001</td>\n",
       "      <td>Y</td>\n",
       "      <td>4.0</td>\n",
       "      <td>0.1430</td>\n",
       "      <td>0.843</td>\n",
       "      <td>...</td>\n",
       "      <td>0.0</td>\n",
       "      <td>0.2690</td>\n",
       "      <td>94.948</td>\n",
       "      <td>4.0</td>\n",
       "      <td>0.613</td>\n",
       "      <td>NaN</td>\n",
       "      <td>NaN</td>\n",
       "      <td>N</td>\n",
       "      <td>N</td>\n",
       "      <td>NaN</td>\n",
       "    </tr>\n",
       "    <tr>\n",
       "      <th>2</th>\n",
       "      <td>3UmaczJpikHgJFyBTAJVoz</td>\n",
       "      <td>Stan</td>\n",
       "      <td>hip-hop</td>\n",
       "      <td>Eminem</td>\n",
       "      <td>85.0</td>\n",
       "      <td>2001</td>\n",
       "      <td>Y</td>\n",
       "      <td>6.0</td>\n",
       "      <td>0.0371</td>\n",
       "      <td>0.780</td>\n",
       "      <td>...</td>\n",
       "      <td>0.0</td>\n",
       "      <td>0.2380</td>\n",
       "      <td>80.063</td>\n",
       "      <td>4.0</td>\n",
       "      <td>0.507</td>\n",
       "      <td>NaN</td>\n",
       "      <td>United States</td>\n",
       "      <td>N</td>\n",
       "      <td>N</td>\n",
       "      <td>Aftermath, Interscope, Shady</td>\n",
       "    </tr>\n",
       "    <tr>\n",
       "      <th>3</th>\n",
       "      <td>3Gf5nttwcX9aaSQXRWidEZ</td>\n",
       "      <td>Ride Wit Me</td>\n",
       "      <td>hip-hop</td>\n",
       "      <td>Nelly</td>\n",
       "      <td>75.0</td>\n",
       "      <td>2001</td>\n",
       "      <td>Y</td>\n",
       "      <td>7.0</td>\n",
       "      <td>0.0616</td>\n",
       "      <td>0.850</td>\n",
       "      <td>...</td>\n",
       "      <td>1.0</td>\n",
       "      <td>0.0478</td>\n",
       "      <td>101.875</td>\n",
       "      <td>4.0</td>\n",
       "      <td>0.722</td>\n",
       "      <td>NaN</td>\n",
       "      <td>United States</td>\n",
       "      <td>N</td>\n",
       "      <td>N</td>\n",
       "      <td>Universal Motown</td>\n",
       "    </tr>\n",
       "    <tr>\n",
       "      <th>4</th>\n",
       "      <td>6glsMWIMIxQ4BedzLqGVi4</td>\n",
       "      <td>So Fresh, So Clean</td>\n",
       "      <td>hip-hop</td>\n",
       "      <td>Outkast</td>\n",
       "      <td>72.0</td>\n",
       "      <td>0</td>\n",
       "      <td>N</td>\n",
       "      <td>5.0</td>\n",
       "      <td>0.0281</td>\n",
       "      <td>0.725</td>\n",
       "      <td>...</td>\n",
       "      <td>0.0</td>\n",
       "      <td>0.3320</td>\n",
       "      <td>166.028</td>\n",
       "      <td>3.0</td>\n",
       "      <td>0.915</td>\n",
       "      <td>NaN</td>\n",
       "      <td>NaN</td>\n",
       "      <td>N</td>\n",
       "      <td>N</td>\n",
       "      <td>NaN</td>\n",
       "    </tr>\n",
       "  </tbody>\n",
       "</table>\n",
       "<p>5 rows × 25 columns</p>\n",
       "</div>"
      ],
      "text/plain": [
       "                 track_id           track_name track_genre artist_name  \\\n",
       "0  3yfqSUWxFvZELEM4PmlwIR  The Real Slim Shady     hip-hop      Eminem   \n",
       "1  0I3q5fE6wg7LIfHGngUTnV          Ms. Jackson     hip-hop     Outkast   \n",
       "2  3UmaczJpikHgJFyBTAJVoz                 Stan     hip-hop      Eminem   \n",
       "3  3Gf5nttwcX9aaSQXRWidEZ          Ride Wit Me     hip-hop       Nelly   \n",
       "4  6glsMWIMIxQ4BedzLqGVi4   So Fresh, So Clean     hip-hop     Outkast   \n",
       "\n",
       "   track_popularity  popular_year Top100  key  acousticness  danceability  \\\n",
       "0              88.0          2000      Y  5.0        0.0302         0.949   \n",
       "1              82.0          2001      Y  4.0        0.1430         0.843   \n",
       "2              85.0          2001      Y  6.0        0.0371         0.780   \n",
       "3              75.0          2001      Y  7.0        0.0616         0.850   \n",
       "4              72.0             0      N  5.0        0.0281         0.725   \n",
       "\n",
       "   ...  modality  speechiness    tempo  time_signature  valence  \\\n",
       "0  ...       0.0       0.0572  104.504             4.0    0.760   \n",
       "1  ...       0.0       0.2690   94.948             4.0    0.613   \n",
       "2  ...       0.0       0.2380   80.063             4.0    0.507   \n",
       "3  ...       1.0       0.0478  101.875             4.0    0.722   \n",
       "4  ...       0.0       0.3320  166.028             3.0    0.915   \n",
       "\n",
       "   second_artist  artist_country  collaboration  prevTop100  \\\n",
       "0            NaN   United States              N           N   \n",
       "1            NaN             NaN              N           N   \n",
       "2            NaN   United States              N           N   \n",
       "3            NaN   United States              N           N   \n",
       "4            NaN             NaN              N           N   \n",
       "\n",
       "                          Label  \n",
       "0  Aftermath, Interscope, Shady  \n",
       "1                           NaN  \n",
       "2  Aftermath, Interscope, Shady  \n",
       "3              Universal Motown  \n",
       "4                           NaN  \n",
       "\n",
       "[5 rows x 25 columns]"
      ]
     },
     "execution_count": 4,
     "metadata": {},
     "output_type": "execute_result"
    }
   ],
   "source": [
    "df.head()"
   ]
  },
  {
   "cell_type": "code",
   "execution_count": 5,
   "id": "25f150c1",
   "metadata": {},
   "outputs": [
    {
     "data": {
      "text/plain": [
       "track_id             object\n",
       "track_name           object\n",
       "track_genre          object\n",
       "artist_name          object\n",
       "track_popularity    float64\n",
       "popular_year          int64\n",
       "Top100               object\n",
       "key                 float64\n",
       "acousticness        float64\n",
       "danceability        float64\n",
       "duration_ms         float64\n",
       "energy              float64\n",
       "instrumentalness    float64\n",
       "liveness            float64\n",
       "loudness            float64\n",
       "modality            float64\n",
       "speechiness         float64\n",
       "tempo               float64\n",
       "time_signature      float64\n",
       "valence             float64\n",
       "second_artist        object\n",
       "artist_country       object\n",
       "collaboration        object\n",
       "prevTop100           object\n",
       "Label                object\n",
       "dtype: object"
      ]
     },
     "execution_count": 5,
     "metadata": {},
     "output_type": "execute_result"
    }
   ],
   "source": [
    "df.dtypes"
   ]
  },
  {
   "cell_type": "markdown",
   "id": "2741d1ec",
   "metadata": {},
   "source": [
    "## Let's do some additional cleaning before we go further"
   ]
  },
  {
   "cell_type": "code",
   "execution_count": 6,
   "id": "ac8095f7",
   "metadata": {},
   "outputs": [],
   "source": [
    "# remove columns that won't have any predictive value: track_id, track_name\n",
    "# remove track_popularity since this will most likely be highly correlated to dependent variable\n",
    "# remove second_artist since we created \"collaboration\" with that column\n",
    "# remove prevTop100 until can figure out how to correctly create that\n",
    "df = df.drop(['track_id', 'track_name', 'prevTop100', 'track_popularity', 'second_artist', 'popular_year'], axis=1)"
   ]
  },
  {
   "cell_type": "code",
   "execution_count": 7,
   "id": "2b5b196c",
   "metadata": {},
   "outputs": [
    {
     "data": {
      "text/html": [
       "<div>\n",
       "<style scoped>\n",
       "    .dataframe tbody tr th:only-of-type {\n",
       "        vertical-align: middle;\n",
       "    }\n",
       "\n",
       "    .dataframe tbody tr th {\n",
       "        vertical-align: top;\n",
       "    }\n",
       "\n",
       "    .dataframe thead th {\n",
       "        text-align: right;\n",
       "    }\n",
       "</style>\n",
       "<table border=\"1\" class=\"dataframe\">\n",
       "  <thead>\n",
       "    <tr style=\"text-align: right;\">\n",
       "      <th></th>\n",
       "      <th>track_genre</th>\n",
       "      <th>artist_name</th>\n",
       "      <th>Top100</th>\n",
       "      <th>key</th>\n",
       "      <th>acousticness</th>\n",
       "      <th>danceability</th>\n",
       "      <th>duration_ms</th>\n",
       "      <th>energy</th>\n",
       "      <th>instrumentalness</th>\n",
       "      <th>liveness</th>\n",
       "      <th>loudness</th>\n",
       "      <th>modality</th>\n",
       "      <th>speechiness</th>\n",
       "      <th>tempo</th>\n",
       "      <th>time_signature</th>\n",
       "      <th>valence</th>\n",
       "      <th>artist_country</th>\n",
       "      <th>collaboration</th>\n",
       "      <th>Label</th>\n",
       "    </tr>\n",
       "  </thead>\n",
       "  <tbody>\n",
       "    <tr>\n",
       "      <th>0</th>\n",
       "      <td>hip-hop</td>\n",
       "      <td>Eminem</td>\n",
       "      <td>Y</td>\n",
       "      <td>5.0</td>\n",
       "      <td>0.0302</td>\n",
       "      <td>0.949</td>\n",
       "      <td>284200.0</td>\n",
       "      <td>0.661</td>\n",
       "      <td>0.000000</td>\n",
       "      <td>0.0454</td>\n",
       "      <td>-4.244</td>\n",
       "      <td>0.0</td>\n",
       "      <td>0.0572</td>\n",
       "      <td>104.504</td>\n",
       "      <td>4.0</td>\n",
       "      <td>0.760</td>\n",
       "      <td>United States</td>\n",
       "      <td>N</td>\n",
       "      <td>Aftermath, Interscope, Shady</td>\n",
       "    </tr>\n",
       "    <tr>\n",
       "      <th>1</th>\n",
       "      <td>hip-hop</td>\n",
       "      <td>Outkast</td>\n",
       "      <td>Y</td>\n",
       "      <td>4.0</td>\n",
       "      <td>0.1430</td>\n",
       "      <td>0.843</td>\n",
       "      <td>270507.0</td>\n",
       "      <td>0.806</td>\n",
       "      <td>0.000000</td>\n",
       "      <td>0.0771</td>\n",
       "      <td>-5.946</td>\n",
       "      <td>0.0</td>\n",
       "      <td>0.2690</td>\n",
       "      <td>94.948</td>\n",
       "      <td>4.0</td>\n",
       "      <td>0.613</td>\n",
       "      <td>NaN</td>\n",
       "      <td>N</td>\n",
       "      <td>NaN</td>\n",
       "    </tr>\n",
       "    <tr>\n",
       "      <th>2</th>\n",
       "      <td>hip-hop</td>\n",
       "      <td>Eminem</td>\n",
       "      <td>Y</td>\n",
       "      <td>6.0</td>\n",
       "      <td>0.0371</td>\n",
       "      <td>0.780</td>\n",
       "      <td>404107.0</td>\n",
       "      <td>0.768</td>\n",
       "      <td>0.000002</td>\n",
       "      <td>0.5180</td>\n",
       "      <td>-4.325</td>\n",
       "      <td>0.0</td>\n",
       "      <td>0.2380</td>\n",
       "      <td>80.063</td>\n",
       "      <td>4.0</td>\n",
       "      <td>0.507</td>\n",
       "      <td>United States</td>\n",
       "      <td>N</td>\n",
       "      <td>Aftermath, Interscope, Shady</td>\n",
       "    </tr>\n",
       "    <tr>\n",
       "      <th>3</th>\n",
       "      <td>hip-hop</td>\n",
       "      <td>Nelly</td>\n",
       "      <td>Y</td>\n",
       "      <td>7.0</td>\n",
       "      <td>0.0616</td>\n",
       "      <td>0.850</td>\n",
       "      <td>291782.0</td>\n",
       "      <td>0.700</td>\n",
       "      <td>0.000002</td>\n",
       "      <td>0.2440</td>\n",
       "      <td>-6.490</td>\n",
       "      <td>1.0</td>\n",
       "      <td>0.0478</td>\n",
       "      <td>101.875</td>\n",
       "      <td>4.0</td>\n",
       "      <td>0.722</td>\n",
       "      <td>United States</td>\n",
       "      <td>N</td>\n",
       "      <td>Universal Motown</td>\n",
       "    </tr>\n",
       "    <tr>\n",
       "      <th>4</th>\n",
       "      <td>hip-hop</td>\n",
       "      <td>Outkast</td>\n",
       "      <td>N</td>\n",
       "      <td>5.0</td>\n",
       "      <td>0.0281</td>\n",
       "      <td>0.725</td>\n",
       "      <td>240027.0</td>\n",
       "      <td>0.640</td>\n",
       "      <td>0.000000</td>\n",
       "      <td>0.0990</td>\n",
       "      <td>-7.905</td>\n",
       "      <td>0.0</td>\n",
       "      <td>0.3320</td>\n",
       "      <td>166.028</td>\n",
       "      <td>3.0</td>\n",
       "      <td>0.915</td>\n",
       "      <td>NaN</td>\n",
       "      <td>N</td>\n",
       "      <td>NaN</td>\n",
       "    </tr>\n",
       "  </tbody>\n",
       "</table>\n",
       "</div>"
      ],
      "text/plain": [
       "  track_genre artist_name Top100  key  acousticness  danceability  \\\n",
       "0     hip-hop      Eminem      Y  5.0        0.0302         0.949   \n",
       "1     hip-hop     Outkast      Y  4.0        0.1430         0.843   \n",
       "2     hip-hop      Eminem      Y  6.0        0.0371         0.780   \n",
       "3     hip-hop       Nelly      Y  7.0        0.0616         0.850   \n",
       "4     hip-hop     Outkast      N  5.0        0.0281         0.725   \n",
       "\n",
       "   duration_ms  energy  instrumentalness  liveness  loudness  modality  \\\n",
       "0     284200.0   0.661          0.000000    0.0454    -4.244       0.0   \n",
       "1     270507.0   0.806          0.000000    0.0771    -5.946       0.0   \n",
       "2     404107.0   0.768          0.000002    0.5180    -4.325       0.0   \n",
       "3     291782.0   0.700          0.000002    0.2440    -6.490       1.0   \n",
       "4     240027.0   0.640          0.000000    0.0990    -7.905       0.0   \n",
       "\n",
       "   speechiness    tempo  time_signature  valence artist_country collaboration  \\\n",
       "0       0.0572  104.504             4.0    0.760  United States             N   \n",
       "1       0.2690   94.948             4.0    0.613            NaN             N   \n",
       "2       0.2380   80.063             4.0    0.507  United States             N   \n",
       "3       0.0478  101.875             4.0    0.722  United States             N   \n",
       "4       0.3320  166.028             3.0    0.915            NaN             N   \n",
       "\n",
       "                          Label  \n",
       "0  Aftermath, Interscope, Shady  \n",
       "1                           NaN  \n",
       "2  Aftermath, Interscope, Shady  \n",
       "3              Universal Motown  \n",
       "4                           NaN  "
      ]
     },
     "execution_count": 7,
     "metadata": {},
     "output_type": "execute_result"
    }
   ],
   "source": [
    "df.head()"
   ]
  },
  {
   "cell_type": "code",
   "execution_count": 8,
   "id": "4d42bb80",
   "metadata": {},
   "outputs": [
    {
     "data": {
      "text/plain": [
       "track_genre            15\n",
       "artist_name         22772\n",
       "Top100                  2\n",
       "key                    12\n",
       "acousticness         5032\n",
       "danceability         1314\n",
       "duration_ms         84943\n",
       "energy               2729\n",
       "instrumentalness     5401\n",
       "liveness             1753\n",
       "loudness            30094\n",
       "modality                2\n",
       "speechiness          1545\n",
       "tempo               89703\n",
       "time_signature          5\n",
       "valence              1710\n",
       "artist_country        131\n",
       "collaboration           2\n",
       "Label                2087\n",
       "dtype: int64"
      ]
     },
     "execution_count": 8,
     "metadata": {},
     "output_type": "execute_result"
    }
   ],
   "source": [
    "# check number of unique value counts in each column to check if they are categorical, in addition to object type above\n",
    "df.nunique()"
   ]
  },
  {
   "cell_type": "code",
   "execution_count": 9,
   "id": "0ed404ab",
   "metadata": {},
   "outputs": [],
   "source": [
    "#df.key.value_counts()"
   ]
  },
  {
   "cell_type": "code",
   "execution_count": 10,
   "id": "29f28ecc",
   "metadata": {},
   "outputs": [],
   "source": [
    "#df.modality.value_counts()"
   ]
  },
  {
   "cell_type": "code",
   "execution_count": 11,
   "id": "d8df59e8",
   "metadata": {},
   "outputs": [],
   "source": [
    "#df.time_signature.value_counts()"
   ]
  },
  {
   "cell_type": "code",
   "execution_count": 12,
   "id": "00b62f37",
   "metadata": {},
   "outputs": [
    {
     "data": {
      "text/html": [
       "<div>\n",
       "<style scoped>\n",
       "    .dataframe tbody tr th:only-of-type {\n",
       "        vertical-align: middle;\n",
       "    }\n",
       "\n",
       "    .dataframe tbody tr th {\n",
       "        vertical-align: top;\n",
       "    }\n",
       "\n",
       "    .dataframe thead th {\n",
       "        text-align: right;\n",
       "    }\n",
       "</style>\n",
       "<table border=\"1\" class=\"dataframe\">\n",
       "  <thead>\n",
       "    <tr style=\"text-align: right;\">\n",
       "      <th></th>\n",
       "      <th>track_genre</th>\n",
       "      <th>artist_name</th>\n",
       "      <th>Top100</th>\n",
       "      <th>key</th>\n",
       "      <th>acousticness</th>\n",
       "      <th>danceability</th>\n",
       "      <th>duration_ms</th>\n",
       "      <th>energy</th>\n",
       "      <th>instrumentalness</th>\n",
       "      <th>liveness</th>\n",
       "      <th>loudness</th>\n",
       "      <th>modality</th>\n",
       "      <th>speechiness</th>\n",
       "      <th>tempo</th>\n",
       "      <th>time_signature</th>\n",
       "      <th>valence</th>\n",
       "      <th>artist_country</th>\n",
       "      <th>collaboration</th>\n",
       "      <th>Label</th>\n",
       "    </tr>\n",
       "  </thead>\n",
       "  <tbody>\n",
       "    <tr>\n",
       "      <th>0</th>\n",
       "      <td>hip-hop</td>\n",
       "      <td>Eminem</td>\n",
       "      <td>Y</td>\n",
       "      <td>5.0</td>\n",
       "      <td>0.0302</td>\n",
       "      <td>0.949</td>\n",
       "      <td>284200.0</td>\n",
       "      <td>0.661</td>\n",
       "      <td>0.000000</td>\n",
       "      <td>0.0454</td>\n",
       "      <td>-4.244</td>\n",
       "      <td>0.0</td>\n",
       "      <td>0.0572</td>\n",
       "      <td>104.504</td>\n",
       "      <td>4.0</td>\n",
       "      <td>0.760</td>\n",
       "      <td>United States</td>\n",
       "      <td>N</td>\n",
       "      <td>Aftermath, Interscope, Shady</td>\n",
       "    </tr>\n",
       "    <tr>\n",
       "      <th>1</th>\n",
       "      <td>hip-hop</td>\n",
       "      <td>Outkast</td>\n",
       "      <td>Y</td>\n",
       "      <td>4.0</td>\n",
       "      <td>0.1430</td>\n",
       "      <td>0.843</td>\n",
       "      <td>270507.0</td>\n",
       "      <td>0.806</td>\n",
       "      <td>0.000000</td>\n",
       "      <td>0.0771</td>\n",
       "      <td>-5.946</td>\n",
       "      <td>0.0</td>\n",
       "      <td>0.2690</td>\n",
       "      <td>94.948</td>\n",
       "      <td>4.0</td>\n",
       "      <td>0.613</td>\n",
       "      <td>NaN</td>\n",
       "      <td>N</td>\n",
       "      <td>NaN</td>\n",
       "    </tr>\n",
       "    <tr>\n",
       "      <th>2</th>\n",
       "      <td>hip-hop</td>\n",
       "      <td>Eminem</td>\n",
       "      <td>Y</td>\n",
       "      <td>6.0</td>\n",
       "      <td>0.0371</td>\n",
       "      <td>0.780</td>\n",
       "      <td>404107.0</td>\n",
       "      <td>0.768</td>\n",
       "      <td>0.000002</td>\n",
       "      <td>0.5180</td>\n",
       "      <td>-4.325</td>\n",
       "      <td>0.0</td>\n",
       "      <td>0.2380</td>\n",
       "      <td>80.063</td>\n",
       "      <td>4.0</td>\n",
       "      <td>0.507</td>\n",
       "      <td>United States</td>\n",
       "      <td>N</td>\n",
       "      <td>Aftermath, Interscope, Shady</td>\n",
       "    </tr>\n",
       "    <tr>\n",
       "      <th>3</th>\n",
       "      <td>hip-hop</td>\n",
       "      <td>Nelly</td>\n",
       "      <td>Y</td>\n",
       "      <td>7.0</td>\n",
       "      <td>0.0616</td>\n",
       "      <td>0.850</td>\n",
       "      <td>291782.0</td>\n",
       "      <td>0.700</td>\n",
       "      <td>0.000002</td>\n",
       "      <td>0.2440</td>\n",
       "      <td>-6.490</td>\n",
       "      <td>1.0</td>\n",
       "      <td>0.0478</td>\n",
       "      <td>101.875</td>\n",
       "      <td>4.0</td>\n",
       "      <td>0.722</td>\n",
       "      <td>United States</td>\n",
       "      <td>N</td>\n",
       "      <td>Universal Motown</td>\n",
       "    </tr>\n",
       "    <tr>\n",
       "      <th>4</th>\n",
       "      <td>hip-hop</td>\n",
       "      <td>Outkast</td>\n",
       "      <td>N</td>\n",
       "      <td>5.0</td>\n",
       "      <td>0.0281</td>\n",
       "      <td>0.725</td>\n",
       "      <td>240027.0</td>\n",
       "      <td>0.640</td>\n",
       "      <td>0.000000</td>\n",
       "      <td>0.0990</td>\n",
       "      <td>-7.905</td>\n",
       "      <td>0.0</td>\n",
       "      <td>0.3320</td>\n",
       "      <td>166.028</td>\n",
       "      <td>3.0</td>\n",
       "      <td>0.915</td>\n",
       "      <td>NaN</td>\n",
       "      <td>N</td>\n",
       "      <td>NaN</td>\n",
       "    </tr>\n",
       "  </tbody>\n",
       "</table>\n",
       "</div>"
      ],
      "text/plain": [
       "  track_genre artist_name Top100  key  acousticness  danceability  \\\n",
       "0     hip-hop      Eminem      Y  5.0        0.0302         0.949   \n",
       "1     hip-hop     Outkast      Y  4.0        0.1430         0.843   \n",
       "2     hip-hop      Eminem      Y  6.0        0.0371         0.780   \n",
       "3     hip-hop       Nelly      Y  7.0        0.0616         0.850   \n",
       "4     hip-hop     Outkast      N  5.0        0.0281         0.725   \n",
       "\n",
       "   duration_ms  energy  instrumentalness  liveness  loudness  modality  \\\n",
       "0     284200.0   0.661          0.000000    0.0454    -4.244       0.0   \n",
       "1     270507.0   0.806          0.000000    0.0771    -5.946       0.0   \n",
       "2     404107.0   0.768          0.000002    0.5180    -4.325       0.0   \n",
       "3     291782.0   0.700          0.000002    0.2440    -6.490       1.0   \n",
       "4     240027.0   0.640          0.000000    0.0990    -7.905       0.0   \n",
       "\n",
       "   speechiness    tempo  time_signature  valence artist_country collaboration  \\\n",
       "0       0.0572  104.504             4.0    0.760  United States             N   \n",
       "1       0.2690   94.948             4.0    0.613            NaN             N   \n",
       "2       0.2380   80.063             4.0    0.507  United States             N   \n",
       "3       0.0478  101.875             4.0    0.722  United States             N   \n",
       "4       0.3320  166.028             3.0    0.915            NaN             N   \n",
       "\n",
       "                          Label  \n",
       "0  Aftermath, Interscope, Shady  \n",
       "1                           NaN  \n",
       "2  Aftermath, Interscope, Shady  \n",
       "3              Universal Motown  \n",
       "4                           NaN  "
      ]
     },
     "execution_count": 12,
     "metadata": {},
     "output_type": "execute_result"
    }
   ],
   "source": [
    "df.head()"
   ]
  },
  {
   "cell_type": "code",
   "execution_count": 13,
   "id": "3e140604",
   "metadata": {},
   "outputs": [],
   "source": [
    "# convert key, modality and time_signature to object from int64\n",
    "#df['modality'].apply(str)\n",
    "df.modality = df.modality.astype(str)\n",
    "df.time_signature = df.time_signature.astype(str)\n",
    "df.key = df.key.astype(str)"
   ]
  },
  {
   "cell_type": "code",
   "execution_count": 14,
   "id": "860df146",
   "metadata": {},
   "outputs": [
    {
     "data": {
      "text/plain": [
       "Antilles                            14068\n",
       "Atlantic                             2812\n",
       "Warner Bros.                         2427\n",
       "Interscope                           2001\n",
       "RCA                                  1851\n",
       "                                    ...  \n",
       "White/Hot, Island, Domino               1\n",
       "Flying Nun, Bella Union                 1\n",
       "Highwheel                               1\n",
       "Don Giovanni / Sister Polygon           1\n",
       "MoreAboutMusic / Blackball Muzik        1\n",
       "Name: Label, Length: 2087, dtype: int64"
      ]
     },
     "execution_count": 14,
     "metadata": {},
     "output_type": "execute_result"
    }
   ],
   "source": [
    "# Let's check the variety of different values in Label\n",
    "df.Label.value_counts()"
   ]
  },
  {
   "cell_type": "code",
   "execution_count": 15,
   "id": "494b531b",
   "metadata": {},
   "outputs": [
    {
     "name": "stderr",
     "output_type": "stream",
     "text": [
      "/var/folders/rc/20gvvbw10mg1xrcm82p5g4tm0000gn/T/ipykernel_39958/822863754.py:4: SettingWithCopyWarning: \n",
      "A value is trying to be set on a copy of a slice from a DataFrame\n",
      "\n",
      "See the caveats in the documentation: https://pandas.pydata.org/pandas-docs/stable/user_guide/indexing.html#returning-a-view-versus-a-copy\n",
      "  df['Label'][mask] = 'Other'\n"
     ]
    }
   ],
   "source": [
    "# with some many different Labels, I'll group any Labels occuring less than 5 times into \"Other\"\n",
    "counts = df['Label'].value_counts()\n",
    "mask = df['Label'].isin(counts[counts < 5].index)\n",
    "df['Label'][mask] = 'Other'"
   ]
  },
  {
   "cell_type": "code",
   "execution_count": 16,
   "id": "2734aa67",
   "metadata": {},
   "outputs": [
    {
     "data": {
      "text/plain": [
       "1410"
      ]
     },
     "execution_count": 16,
     "metadata": {},
     "output_type": "execute_result"
    }
   ],
   "source": [
    "# This puts 1,410 labels into 'Other'\n",
    "len(df[df['Label'] == 'Other'])"
   ]
  },
  {
   "cell_type": "markdown",
   "id": "8b817c36",
   "metadata": {},
   "source": [
    "## Create dummy variables for categorical data types"
   ]
  },
  {
   "cell_type": "code",
   "execution_count": 17,
   "id": "704a856e",
   "metadata": {},
   "outputs": [],
   "source": [
    "# isolate categorical variables\n",
    "categorical_features = df.select_dtypes(include=['object'])\n",
    "\n",
    "# exclude dependent variable\n",
    "categorical_features = categorical_features.drop(columns = ['Top100'])\n",
    "#categorical_columns"
   ]
  },
  {
   "cell_type": "code",
   "execution_count": 18,
   "id": "42a4d2b0",
   "metadata": {},
   "outputs": [],
   "source": [
    "#dfo = df.select_dtypes(include=['object']) # select object type columns\n",
    "df = pd.concat([df.drop(categorical_features, axis=1), pd.get_dummies(categorical_features)], axis=1)"
   ]
  },
  {
   "cell_type": "markdown",
   "id": "6c3958a4",
   "metadata": {},
   "source": [
    "dfo = df.select_dtypes(include=['object']) # select object type columns\n",
    "df = pd.concat([df.drop(dfo, axis=1), pd.get_dummies(dfo)], axis=1)"
   ]
  },
  {
   "cell_type": "code",
   "execution_count": 19,
   "id": "27aae346",
   "metadata": {},
   "outputs": [
    {
     "data": {
      "text/html": [
       "<div>\n",
       "<style scoped>\n",
       "    .dataframe tbody tr th:only-of-type {\n",
       "        vertical-align: middle;\n",
       "    }\n",
       "\n",
       "    .dataframe tbody tr th {\n",
       "        vertical-align: top;\n",
       "    }\n",
       "\n",
       "    .dataframe thead th {\n",
       "        text-align: right;\n",
       "    }\n",
       "</style>\n",
       "<table border=\"1\" class=\"dataframe\">\n",
       "  <thead>\n",
       "    <tr style=\"text-align: right;\">\n",
       "      <th></th>\n",
       "      <th>Top100</th>\n",
       "      <th>acousticness</th>\n",
       "      <th>danceability</th>\n",
       "      <th>duration_ms</th>\n",
       "      <th>energy</th>\n",
       "      <th>instrumentalness</th>\n",
       "      <th>liveness</th>\n",
       "      <th>loudness</th>\n",
       "      <th>speechiness</th>\n",
       "      <th>tempo</th>\n",
       "      <th>...</th>\n",
       "      <th>Label_i! Records</th>\n",
       "      <th>Label_iDEAL</th>\n",
       "      <th>Label_independent</th>\n",
       "      <th>Label_mau5trap</th>\n",
       "      <th>Label_nterscope</th>\n",
       "      <th>Label_will.i.am, A&amp;M</th>\n",
       "      <th>Label_will.i.am, Cherrytree, Interscope, Dandyville</th>\n",
       "      <th>Label_~scape</th>\n",
       "      <th>Label_â„— 2019 Speakerbox Recordings Limited under</th>\n",
       "      <th>Label_å†¬æ¨¹ç¤¾</th>\n",
       "    </tr>\n",
       "  </thead>\n",
       "  <tbody>\n",
       "    <tr>\n",
       "      <th>0</th>\n",
       "      <td>Y</td>\n",
       "      <td>0.0302</td>\n",
       "      <td>0.949</td>\n",
       "      <td>284200.0</td>\n",
       "      <td>0.661</td>\n",
       "      <td>0.000000</td>\n",
       "      <td>0.0454</td>\n",
       "      <td>-4.244</td>\n",
       "      <td>0.0572</td>\n",
       "      <td>104.504</td>\n",
       "      <td>...</td>\n",
       "      <td>0</td>\n",
       "      <td>0</td>\n",
       "      <td>0</td>\n",
       "      <td>0</td>\n",
       "      <td>0</td>\n",
       "      <td>0</td>\n",
       "      <td>0</td>\n",
       "      <td>0</td>\n",
       "      <td>0</td>\n",
       "      <td>0</td>\n",
       "    </tr>\n",
       "    <tr>\n",
       "      <th>1</th>\n",
       "      <td>Y</td>\n",
       "      <td>0.1430</td>\n",
       "      <td>0.843</td>\n",
       "      <td>270507.0</td>\n",
       "      <td>0.806</td>\n",
       "      <td>0.000000</td>\n",
       "      <td>0.0771</td>\n",
       "      <td>-5.946</td>\n",
       "      <td>0.2690</td>\n",
       "      <td>94.948</td>\n",
       "      <td>...</td>\n",
       "      <td>0</td>\n",
       "      <td>0</td>\n",
       "      <td>0</td>\n",
       "      <td>0</td>\n",
       "      <td>0</td>\n",
       "      <td>0</td>\n",
       "      <td>0</td>\n",
       "      <td>0</td>\n",
       "      <td>0</td>\n",
       "      <td>0</td>\n",
       "    </tr>\n",
       "    <tr>\n",
       "      <th>2</th>\n",
       "      <td>Y</td>\n",
       "      <td>0.0371</td>\n",
       "      <td>0.780</td>\n",
       "      <td>404107.0</td>\n",
       "      <td>0.768</td>\n",
       "      <td>0.000002</td>\n",
       "      <td>0.5180</td>\n",
       "      <td>-4.325</td>\n",
       "      <td>0.2380</td>\n",
       "      <td>80.063</td>\n",
       "      <td>...</td>\n",
       "      <td>0</td>\n",
       "      <td>0</td>\n",
       "      <td>0</td>\n",
       "      <td>0</td>\n",
       "      <td>0</td>\n",
       "      <td>0</td>\n",
       "      <td>0</td>\n",
       "      <td>0</td>\n",
       "      <td>0</td>\n",
       "      <td>0</td>\n",
       "    </tr>\n",
       "    <tr>\n",
       "      <th>3</th>\n",
       "      <td>Y</td>\n",
       "      <td>0.0616</td>\n",
       "      <td>0.850</td>\n",
       "      <td>291782.0</td>\n",
       "      <td>0.700</td>\n",
       "      <td>0.000002</td>\n",
       "      <td>0.2440</td>\n",
       "      <td>-6.490</td>\n",
       "      <td>0.0478</td>\n",
       "      <td>101.875</td>\n",
       "      <td>...</td>\n",
       "      <td>0</td>\n",
       "      <td>0</td>\n",
       "      <td>0</td>\n",
       "      <td>0</td>\n",
       "      <td>0</td>\n",
       "      <td>0</td>\n",
       "      <td>0</td>\n",
       "      <td>0</td>\n",
       "      <td>0</td>\n",
       "      <td>0</td>\n",
       "    </tr>\n",
       "    <tr>\n",
       "      <th>4</th>\n",
       "      <td>N</td>\n",
       "      <td>0.0281</td>\n",
       "      <td>0.725</td>\n",
       "      <td>240027.0</td>\n",
       "      <td>0.640</td>\n",
       "      <td>0.000000</td>\n",
       "      <td>0.0990</td>\n",
       "      <td>-7.905</td>\n",
       "      <td>0.3320</td>\n",
       "      <td>166.028</td>\n",
       "      <td>...</td>\n",
       "      <td>0</td>\n",
       "      <td>0</td>\n",
       "      <td>0</td>\n",
       "      <td>0</td>\n",
       "      <td>0</td>\n",
       "      <td>0</td>\n",
       "      <td>0</td>\n",
       "      <td>0</td>\n",
       "      <td>0</td>\n",
       "      <td>0</td>\n",
       "    </tr>\n",
       "  </tbody>\n",
       "</table>\n",
       "<p>5 rows × 24362 columns</p>\n",
       "</div>"
      ],
      "text/plain": [
       "  Top100  acousticness  danceability  duration_ms  energy  instrumentalness  \\\n",
       "0      Y        0.0302         0.949     284200.0   0.661          0.000000   \n",
       "1      Y        0.1430         0.843     270507.0   0.806          0.000000   \n",
       "2      Y        0.0371         0.780     404107.0   0.768          0.000002   \n",
       "3      Y        0.0616         0.850     291782.0   0.700          0.000002   \n",
       "4      N        0.0281         0.725     240027.0   0.640          0.000000   \n",
       "\n",
       "   liveness  loudness  speechiness    tempo  ...  Label_i! Records  \\\n",
       "0    0.0454    -4.244       0.0572  104.504  ...                 0   \n",
       "1    0.0771    -5.946       0.2690   94.948  ...                 0   \n",
       "2    0.5180    -4.325       0.2380   80.063  ...                 0   \n",
       "3    0.2440    -6.490       0.0478  101.875  ...                 0   \n",
       "4    0.0990    -7.905       0.3320  166.028  ...                 0   \n",
       "\n",
       "   Label_iDEAL  Label_independent  Label_mau5trap  Label_nterscope  \\\n",
       "0            0                  0               0                0   \n",
       "1            0                  0               0                0   \n",
       "2            0                  0               0                0   \n",
       "3            0                  0               0                0   \n",
       "4            0                  0               0                0   \n",
       "\n",
       "   Label_will.i.am, A&M  Label_will.i.am, Cherrytree, Interscope, Dandyville  \\\n",
       "0                     0                                                  0     \n",
       "1                     0                                                  0     \n",
       "2                     0                                                  0     \n",
       "3                     0                                                  0     \n",
       "4                     0                                                  0     \n",
       "\n",
       "   Label_~scape  Label_â„— 2019 Speakerbox Recordings Limited under  \\\n",
       "0             0                                                  0    \n",
       "1             0                                                  0    \n",
       "2             0                                                  0    \n",
       "3             0                                                  0    \n",
       "4             0                                                  0    \n",
       "\n",
       "   Label_å†¬æ¨¹ç¤¾  \n",
       "0                0  \n",
       "1                0  \n",
       "2                0  \n",
       "3                0  \n",
       "4                0  \n",
       "\n",
       "[5 rows x 24362 columns]"
      ]
     },
     "execution_count": 19,
     "metadata": {},
     "output_type": "execute_result"
    }
   ],
   "source": [
    "df.head()"
   ]
  },
  {
   "cell_type": "markdown",
   "id": "1becf437",
   "metadata": {},
   "source": [
    "## Scaling and Transforming Numeric Features"
   ]
  },
  {
   "cell_type": "code",
   "execution_count": 20,
   "id": "87e1d123",
   "metadata": {},
   "outputs": [],
   "source": [
    "# Create subset of only the numeric columns\n",
    "numeric_df = df.select_dtypes(include=['int', 'float'])"
   ]
  },
  {
   "cell_type": "code",
   "execution_count": 21,
   "id": "e629bdcd",
   "metadata": {},
   "outputs": [],
   "source": [
    "numeric_column_names = list(numeric_df.columns)"
   ]
  },
  {
   "cell_type": "code",
   "execution_count": 22,
   "id": "88af40a5",
   "metadata": {},
   "outputs": [
    {
     "data": {
      "image/png": "[encoded data removed]",
      "text/plain": [
       "<Figure size 1080x720 with 12 Axes>"
      ]
     },
     "metadata": {},
     "output_type": "display_data"
    }
   ],
   "source": [
    "# let's look at the distribution of numeric variables\n",
    "numeric_df.hist(figsize=(15,10))\n",
    "plt.subplots_adjust(hspace=0.5)"
   ]
  },
  {
   "cell_type": "markdown",
   "id": "be6874d4",
   "metadata": {},
   "source": [
    "It looks like duration_ms and speechiness may have outliers"
   ]
  },
  {
   "cell_type": "code",
   "execution_count": 23,
   "id": "061e98f6",
   "metadata": {},
   "outputs": [
    {
     "data": {
      "text/plain": [
       "count    2.550960e+05\n",
       "mean     2.417881e+05\n",
       "std      1.211004e+05\n",
       "min      8.213000e+03\n",
       "25%      1.833470e+05\n",
       "50%      2.246270e+05\n",
       "75%      2.749940e+05\n",
       "max      4.771640e+06\n",
       "Name: duration_ms, dtype: float64"
      ]
     },
     "execution_count": 23,
     "metadata": {},
     "output_type": "execute_result"
    }
   ],
   "source": [
    "df.duration_ms.describe()"
   ]
  },
  {
   "cell_type": "code",
   "execution_count": 24,
   "id": "b8893675",
   "metadata": {},
   "outputs": [
    {
     "data": {
      "text/plain": [
       "count    255096.000000\n",
       "mean          0.078088\n",
       "std           0.087338\n",
       "min           0.000000\n",
       "25%           0.034900\n",
       "50%           0.044500\n",
       "75%           0.074100\n",
       "max           0.961000\n",
       "Name: speechiness, dtype: float64"
      ]
     },
     "execution_count": 24,
     "metadata": {},
     "output_type": "execute_result"
    }
   ],
   "source": [
    "df.speechiness.describe()"
   ]
  },
  {
   "cell_type": "markdown",
   "id": "24af91de",
   "metadata": {},
   "source": [
    "### Let's first try scaling with MinMax"
   ]
  },
  {
   "cell_type": "code",
   "execution_count": 25,
   "id": "170b8d22",
   "metadata": {},
   "outputs": [
    {
     "data": {
      "image/png": "[encoded data removed]",
      "text/plain": [
       "<Figure size 1080x720 with 12 Axes>"
      ]
     },
     "metadata": {},
     "output_type": "display_data"
    }
   ],
   "source": [
    "# this should make all values between 0 and 1\n",
    "# Import MinMaxScaler\n",
    "from sklearn.preprocessing import MinMaxScaler\n",
    "\n",
    "# create model, fit, and transform\n",
    "MM_scaler = MinMaxScaler()\n",
    "numeric_df_mm = MM_scaler.fit_transform(numeric_df)\n",
    "\n",
    "# convert back to dataframe for plotting\n",
    "numeric_df_mm = pd.DataFrame(numeric_df_mm)\n",
    "numeric_df_mm.columns = numeric_column_names\n",
    "\n",
    "numeric_df_mm.hist(figsize=(15,10))\n",
    "plt.subplots_adjust(hspace=0.5)"
   ]
  },
  {
   "cell_type": "code",
   "execution_count": null,
   "id": "6807c478",
   "metadata": {},
   "outputs": [],
   "source": []
  },
  {
   "cell_type": "markdown",
   "id": "69dc2a06",
   "metadata": {},
   "source": [
    "### Now let's try Standardization"
   ]
  },
  {
   "cell_type": "code",
   "execution_count": 26,
   "id": "8786554b",
   "metadata": {},
   "outputs": [
    {
     "data": {
      "image/png": "[encoded data removed]",
      "text/plain": [
       "<Figure size 1080x720 with 12 Axes>"
      ]
     },
     "metadata": {},
     "output_type": "display_data"
    }
   ],
   "source": [
    "# Import StandardScaler\n",
    "from sklearn.preprocessing import StandardScaler\n",
    "\n",
    "# create model, fit, and transform\n",
    "SS_scaler = StandardScaler()\n",
    "numeric_df_ss = SS_scaler.fit_transform(numeric_df)\n",
    "\n",
    "# convert back to dataframe for plotting\n",
    "numeric_df_ss = pd.DataFrame(numeric_df_ss)\n",
    "numeric_df_ss.columns = numeric_column_names\n",
    "\n",
    "numeric_df_ss.hist(figsize=(15,10))\n",
    "plt.subplots_adjust(hspace=0.5)"
   ]
  },
  {
   "cell_type": "code",
   "execution_count": 27,
   "id": "b64e4f83",
   "metadata": {},
   "outputs": [],
   "source": [
    "#df.acousticness"
   ]
  },
  {
   "cell_type": "code",
   "execution_count": 28,
   "id": "871a589a",
   "metadata": {},
   "outputs": [],
   "source": [
    "#numeric_df_mm.acousticness"
   ]
  },
  {
   "cell_type": "code",
   "execution_count": 29,
   "id": "9b2004db",
   "metadata": {},
   "outputs": [],
   "source": [
    "#df.danceability"
   ]
  },
  {
   "cell_type": "code",
   "execution_count": 30,
   "id": "0ef49d4d",
   "metadata": {},
   "outputs": [],
   "source": [
    "#numeric_df_mm.danceability"
   ]
  },
  {
   "cell_type": "code",
   "execution_count": 31,
   "id": "ef885ee0",
   "metadata": {},
   "outputs": [],
   "source": [
    "#update numeric column values with the normalized Min-Max values\n",
    "for column_name in numeric_column_names:\n",
    "    df[column_name] = numeric_df_mm[column_name]\n"
   ]
  },
  {
   "cell_type": "markdown",
   "id": "1e70ddd3",
   "metadata": {},
   "source": [
    "### Split data into training and testing subsets"
   ]
  },
  {
   "cell_type": "markdown",
   "id": "e5b78d8e",
   "metadata": {},
   "source": [
    "#### Question: should I not use getdummies on the dependent variable 'Top100'"
   ]
  },
  {
   "cell_type": "code",
   "execution_count": 32,
   "id": "f9c3d851",
   "metadata": {},
   "outputs": [],
   "source": [
    "# Create the X and y matrices from the dataframe\n",
    "X = df.drop(columns = ['Top100'])\n",
    "y = df['Top100']"
   ]
  },
  {
   "cell_type": "code",
   "execution_count": 33,
   "id": "3e89d3a2",
   "metadata": {},
   "outputs": [],
   "source": [
    "# from sklearn.model_selection import train_test_split; reserve 20% for test\n",
    "X_train, X_test, y_train, y_test = train_test_split(X, y, test_size=.20, random_state=1)"
   ]
  },
  {
   "cell_type": "code",
   "execution_count": null,
   "id": "3bd7d8fe",
   "metadata": {},
   "outputs": [],
   "source": []
  },
  {
   "cell_type": "markdown",
   "id": "8f391c3c",
   "metadata": {},
   "source": [
    "### -- Ignore below for now --"
   ]
  },
  {
   "cell_type": "code",
   "execution_count": 34,
   "id": "2519cb67",
   "metadata": {},
   "outputs": [],
   "source": [
    "#find which columns contain Top100\n",
    "# df2 = df.filter(regex='Top100')\n",
    "# print(df2)"
   ]
  },
  {
   "cell_type": "markdown",
   "id": "178b89a2",
   "metadata": {},
   "source": [
    "# previous top 100 section"
   ]
  },
  {
   "cell_type": "markdown",
   "id": "3b96acff",
   "metadata": {},
   "source": [
    "This section is intended to decipher if an artist has previously had a "
   ]
  },
  {
   "cell_type": "markdown",
   "id": "c3556194",
   "metadata": {},
   "source": [
    "df1.artist_name.value_counts()"
   ]
  },
  {
   "cell_type": "markdown",
   "id": "ff4eba3e",
   "metadata": {},
   "source": [
    "df1['prevTop100'] = 'N'"
   ]
  },
  {
   "cell_type": "markdown",
   "id": "c7c12cfe",
   "metadata": {},
   "source": [
    "df1[df1['artist_name'] == 'Eminem']"
   ]
  },
  {
   "cell_type": "markdown",
   "id": "6be1f7fd",
   "metadata": {},
   "source": [
    "#### what I need to accomplish:\n",
    "\n",
    "for each row (track), determine if the artist of that track has previously had a track with a Top100 = \"Y\".  If this is true, then I want to populate the \"prevTop100\" column with a \"Y\". Note that this should only occur for Top100 songs that are not the first Top Hit for the artist (e.g. their first Top100 hit should have a \"prevTop100\" value of N).\n",
    "\n",
    "In the Britney Spears example below, the first two tracks, which were in the year 2000, would have prevTop100 values of \"N\", while all of the tracks in 2001 and forward would have a prevTop100 value of \"Y\".\n",
    "    \n"
   ]
  },
  {
   "cell_type": "markdown",
   "id": "b23c79e6",
   "metadata": {},
   "source": [
    "#df1[df1['artist_name'] == 'Eminem' & df1['Top100'] == \"Y\"]\n",
    "display(df1.loc[(df1['artist_name'] == 'Britney Spears') & (df1['Top100'] == 'Y')])"
   ]
  },
  {
   "cell_type": "markdown",
   "id": "a4248002",
   "metadata": {},
   "source": [
    "df1[df1['Top100'] == 'Y']"
   ]
  },
  {
   "cell_type": "markdown",
   "id": "e1272c3d",
   "metadata": {},
   "source": [
    "# create the dataframe to compare against\n",
    "top100df = df1[df1['Top100'] == 'Y']\n",
    "top100df.head(4)\n"
   ]
  },
  {
   "cell_type": "markdown",
   "id": "471be8b5",
   "metadata": {},
   "source": [
    "# in this first for loop, I'm trying to create a \"temporary\" dataframe that has each artist with a Top100 hit, and specifically find the year of their first Top100 hit\n",
    "for artist in top100df['artist_name']:\n",
    "    #temp_df = (top100df[top100df['artist_name'] == artist] & top100df[top100df['popular_year']].min())\n",
    "    temp_df = df1.loc[(df1['artist_name'] == artist) & (df1['popular_year'].min())]\n",
    "    print(temp_df)"
   ]
  },
  {
   "cell_type": "code",
   "execution_count": 35,
   "id": "be331fe9",
   "metadata": {},
   "outputs": [],
   "source": [
    "# once I'm able to get that for loop right, I need to be able to "
   ]
  },
  {
   "cell_type": "markdown",
   "id": "68949a38",
   "metadata": {},
   "source": [
    "top100df.Top100.value_counts()"
   ]
  },
  {
   "cell_type": "code",
   "execution_count": null,
   "id": "b1711dbb",
   "metadata": {},
   "outputs": [],
   "source": []
  },
  {
   "cell_type": "markdown",
   "id": "f2771973",
   "metadata": {},
   "source": [
    "for row in df1['prevTop100']:\n",
    "    if df1['artist_name'] in top100df['artist_name']:\n",
    "        print('yes')\n",
    "    else:\n",
    "        print('no')"
   ]
  },
  {
   "cell_type": "code",
   "execution_count": 36,
   "id": "020d9c78",
   "metadata": {},
   "outputs": [],
   "source": [
    "# for row in df6['prev_Top100']:\n",
    "#     if df6['Top100'] = 'N':\n",
    "#         skip\n",
    "#     else:    \n",
    "#         if artist = df6[\"artist_name\"]\n",
    "    "
   ]
  },
  {
   "cell_type": "markdown",
   "id": "6df11c97",
   "metadata": {},
   "source": [
    "for row in df1['prev_Top100']:\n",
    "    artist = df1['artist_name']\n",
    "    print(artist)\n",
    "    #comp_df = df6.loc[(df6['artist_name'] == (artist))]\n",
    "    #comp_df = df6.loc[(df6['artist_name'] == (artist)) & (df6['popular_year'] == 'Y')]\n",
    "    #print(comp_df)"
   ]
  },
  {
   "cell_type": "markdown",
   "id": "21b9f711",
   "metadata": {},
   "source": [
    "#### subset dataframe on the fly approach\n"
   ]
  },
  {
   "cell_type": "markdown",
   "id": "e0d8fd52",
   "metadata": {},
   "source": [
    "#### create dictionary approach\n",
    "almost like if for each artist, you created a dictionary of years that they previously had a top 100, you could look up that list"
   ]
  },
  {
   "cell_type": "markdown",
   "id": "aaf22ab8",
   "metadata": {},
   "source": [
    "one approach: \n",
    "embedded for loop where you look at previous dataframe\n",
    "\n",
    "another approach:\n",
    "join between two dataframes\n",
    "\n"
   ]
  },
  {
   "cell_type": "markdown",
   "id": "6b985625",
   "metadata": {},
   "source": [
    "#### write to CSV\n",
    "from pathlib import Path  \n",
    "filepath = Path('/Users/gregwelliver/Desktop/springboard_files/Music-Popularity-Capstone-Repo/Data/df_data_scaled.csv')  \n",
    "filepath.parent.mkdir(parents=True, exist_ok=True)  \n",
    "df.to_csv(filepath)"
   ]
  },
  {
   "cell_type": "markdown",
   "id": "93c95845",
   "metadata": {},
   "source": [
    "#### write to parquet\n",
    "from pathlib import Path  \n",
    "filepath = Path('/Users/gregwelliver/Desktop/springboard_files/Music-Popularity-Capstone-Repo/Data/df_data_scaled_pq.parquet')  \n",
    "filepath.parent.mkdir(parents=True, exist_ok=True)  \n",
    "df.to_parquet(filepath, \n",
    "              engine = \"pyarrow\", \n",
    "              compression = None)"
   ]
  },
  {
   "cell_type": "markdown",
   "id": "d50af534",
   "metadata": {},
   "source": [
    "df = pd.read_parquet('/Users/gregwelliver/Desktop/springboard_files/Music-Popularity-Capstone-Repo/Data/df_data_scaled_pq.parquet')"
   ]
  },
  {
   "cell_type": "code",
   "execution_count": null,
   "id": "7cf1c377",
   "metadata": {},
   "outputs": [],
   "source": []
  }
 ],
 "metadata": {
  "kernelspec": {
   "display_name": "Python 3 (ipykernel)",
   "language": "python",
   "name": "python3"
  },
  "language_info": {
   "codemirror_mode": {
    "name": "ipython",
    "version": 3
   },
   "file_extension": ".py",
   "mimetype": "text/x-python",
   "name": "python",
   "nbconvert_exporter": "python",
   "pygments_lexer": "ipython3",
   "version": "3.9.12"
  }
 },
 "nbformat": 4,
 "nbformat_minor": 5
}
